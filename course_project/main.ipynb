{
 "cells": [
  {
   "cell_type": "markdown",
   "metadata": {},
   "source": [
    "# Preprocess tracks from PostgreSQL"
   ]
  },
  {
   "cell_type": "code",
   "execution_count": null,
   "metadata": {},
   "outputs": [],
   "source": [
    "import pandas as pd\n",
    "import numpy as np\n",
    "from pandarallel import pandarallel\n",
    "\n",
    "pandarallel.initialize()\n",
    "from tqdm.auto import tqdm\n",
    "tqdm.pandas()"
   ]
  },
  {
   "cell_type": "code",
   "execution_count": null,
   "metadata": {
    "pycharm": {
     "name": "#%%\n"
    }
   },
   "outputs": [],
   "source": [
    "raw_dataset = pd.read_csv(\"data/12_02_2021.csv\")\n",
    "raw_dataset.head()"
   ]
  },
  {
   "cell_type": "code",
   "execution_count": null,
   "metadata": {
    "pycharm": {
     "name": "#%%\n"
    }
   },
   "outputs": [],
   "source": [
    "def process_df(df):\n",
    "\n",
    "    lats = df.lats\n",
    "    lats = lats[1:-1].split(',')\n",
    "    df.lats = np.array(lats).astype(np.float32)\n",
    "\n",
    "    lngs = df.lngs\n",
    "    lngs = lngs[1:-1].split(',')\n",
    "    df.lngs = np.array(lngs).astype(np.float32)\n",
    "\n",
    "    speeds = df.speeds\n",
    "    speeds = speeds[1:-1].split(',')\n",
    "    df.speeds = np.array(speeds).astype(np.uint8)\n",
    "\n",
    "    direction = df.direction\n",
    "    direction = direction[1:-1].split(',')\n",
    "    df.direction = np.array(direction).astype(np.uint8)\n",
    "\n",
    "    ts = df.ts\n",
    "    ts = ts[1:-1].split(',')\n",
    "    df.ts = np.array(ts).astype(np.uint)\n",
    "\n",
    "    return df"
   ]
  },
  {
   "cell_type": "code",
   "execution_count": null,
   "metadata": {
    "pycharm": {
     "name": "#%%\n"
    }
   },
   "outputs": [],
   "source": [
    "dataset = raw_dataset.parallel_apply(process_df, axis=1)"
   ]
  },
  {
   "cell_type": "code",
   "execution_count": null,
   "metadata": {
    "pycharm": {
     "name": "#%%\n"
    }
   },
   "outputs": [],
   "source": [
    "dataset.head()\n",
    "# https://github.com/jmcarpenter2/swifter/"
   ]
  },
  {
   "cell_type": "code",
   "execution_count": null,
   "metadata": {
    "pycharm": {
     "name": "#%%\n"
    }
   },
   "outputs": [],
   "source": [
    "# dataset.to_csv('data/preprocessed_dataset.csv')"
   ]
  },
  {
   "cell_type": "markdown",
   "metadata": {},
   "source": [
    "# Split to small tracks"
   ]
  },
  {
   "cell_type": "code",
   "execution_count": null,
   "metadata": {
    "pycharm": {
     "name": "#%%\n"
    }
   },
   "outputs": [],
   "source": [
    "import pandas as pd\n",
    "import numpy as np\n",
    "import geopy.distance as distance"
   ]
  },
  {
   "cell_type": "code",
   "execution_count": null,
   "metadata": {},
   "outputs": [],
   "source": [
    "def split_tracks(df):\n",
    "    splitted_tracks = []\n",
    "    \n",
    "    speeds = df.speeds[::-1]\n",
    "    ts = df.ts[::-1]\n",
    "    lats = df.lats[::-1]\n",
    "    lons = df.lngs[::-1]\n",
    "\n",
    "    prev_start = 0\n",
    "    dist = 0\n",
    "    for i in range(1, len(lats)):\n",
    "        new_dist = distance.great_circle( (lats[i-1], lons[i-1]), (lats[i], lons[i]) ).km\n",
    "        \n",
    "        if (dist + new_dist) < 2:\n",
    "            dist += new_dist\n",
    "            continue\n",
    "        \n",
    "        track = [ lats[prev_start:i], lons[prev_start:i], ts[prev_start:i], speeds[prev_start:i], dist*1000, i - prev_start ]\n",
    "        prev_start = i\n",
    "        dist = 0\n",
    "        \n",
    "        splitted_tracks.append(track)\n",
    "        \n",
    "    return pd.DataFrame(splitted_tracks)"
   ]
  },
  {
   "cell_type": "code",
   "execution_count": null,
   "metadata": {},
   "outputs": [],
   "source": [
    "split_dataset = dataset.parallel_apply(split_tracks, axis=1)"
   ]
  },
  {
   "cell_type": "code",
   "execution_count": null,
   "metadata": {},
   "outputs": [],
   "source": [
    "corrected_dataset = pd.concat(split_dataset.to_list())"
   ]
  },
  {
   "cell_type": "code",
   "execution_count": null,
   "metadata": {},
   "outputs": [],
   "source": [
    "corrected_dataset.head()"
   ]
  },
  {
   "cell_type": "code",
   "execution_count": null,
   "metadata": {},
   "outputs": [],
   "source": [
    "corrected_dataset.to_csv(\"data/processed_tracks.csv\")"
   ]
  },
  {
   "cell_type": "code",
   "execution_count": null,
   "metadata": {},
   "outputs": [],
   "source": [
    "import pickle as pkl\n",
    "import os"
   ]
  },
  {
   "cell_type": "code",
   "execution_count": null,
   "metadata": {},
   "outputs": [],
   "source": [
    "path = \"/home/rami/Desktop/sd_maps/routing/collected_ds\""
   ]
  },
  {
   "cell_type": "code",
   "execution_count": null,
   "metadata": {},
   "outputs": [],
   "source": [
    "os.listdir(path)"
   ]
  },
  {
   "cell_type": "code",
   "execution_count": null,
   "metadata": {},
   "outputs": [],
   "source": [
    "with open(os.path.join(path, \"train-data_2020-09-19T17:21:56.972509.pkl\"), 'rb') as fname :\n",
    "    train_data = pkl.load(fname)"
   ]
  },
  {
   "cell_type": "code",
   "execution_count": null,
   "metadata": {},
   "outputs": [],
   "source": [
    "pd.DataFrame(train_data).head()"
   ]
  },
  {
   "cell_type": "markdown",
   "metadata": {},
   "source": [
    "# Old RFR approach"
   ]
  },
  {
   "cell_type": "code",
   "execution_count": 1,
   "metadata": {},
   "outputs": [],
   "source": [
    "import numpy as np\n",
    "from matplotlib import pyplot as plt\n",
    "import matplotlib.dates as mdates\n",
    "import pickle as pkl\n",
    "\n",
    "import pandas as pd\n",
    "from datetime import datetime\n",
    "\n",
    "from sklearn.model_selection import train_test_split\n",
    "from sklearn.ensemble import RandomForestRegressor\n",
    "from sklearn.preprocessing import StandardScaler\n",
    "from sklearn import metrics\n",
    "\n",
    "\n",
    "import os\n",
    "dir_name = \"/home/rami/Desktop/sd_maps/routing/collected_ds\"\n",
    "\n",
    "%matplotlib inline\n",
    "\n",
    "from pylab import rcParams\n",
    "rcParams['figure.figsize'] = 15, 10\n",
    "rcParams[\"errorbar.capsize\"] = 5"
   ]
  },
  {
   "cell_type": "code",
   "execution_count": 2,
   "metadata": {},
   "outputs": [],
   "source": [
    "osrm_error = []\n",
    "pred_error = []\n",
    "\n",
    "osrm_std = []\n",
    "pred_std = []\n",
    "\n",
    "full_train_data = []\n",
    "full_labels = pd.DataFrame(columns=[\"ya_dur\", \"osrm_dur\", \"dist\"])\n",
    "\n",
    "timestamps = []\n",
    "ts_labels = []\n",
    "fnames = os.listdir(dir_name)\n",
    "fnames.sort()\n",
    "for name in fnames:\n",
    "    if name[-3:] != \"csv\":\n",
    "        with open(os.path.join(dir_name, name), \"rb\") as f:\n",
    "            full_train_data.extend(pkl.load(f))\n",
    "        continue\n",
    "    \n",
    "    labels = pd.read_csv(os.path.join(dir_name, name))\n",
    "    osrm_error.append(np.mean(labels.ya_dur - labels.osrm_dur))\n",
    "    osrm_std.append(np.std(labels.ya_dur - labels.osrm_dur))\n",
    "    \n",
    "    pred_error.append(np.mean(labels.ya_dur - labels.pred))\n",
    "    pred_std.append(np.std(labels.ya_dur - labels.pred))\n",
    "    \n",
    "    ts_srt = name[:-4]\n",
    "    ts_srt = ts_srt.split(\"_\")[1]\n",
    "    ts = datetime.strptime(ts_srt, '%Y-%m-%dT%H:%M:%S.%f')\n",
    "    # timestamps.append( f\"{ts.day}.{ts.month} {ts.hour}:{ts.minute}\" )\n",
    "    timestamps.append(datetime.strptime(ts_srt, '%Y-%m-%dT%H:%M:%S.%f'))\n",
    "    ts_labels.append( f\"{ts.day}.{ts.month} {ts.hour}:{ts.minute}\" )\n",
    "    \n",
    "    full_labels = full_labels.append( labels[[\"ya_dur\", \"osrm_dur\", \"dist\"]], ignore_index=1 )\n",
    "    \n",
    "stats = pd.DataFrame( {\"osrm_error\": osrm_error, \"osrm_std\": osrm_std, \"pred_error\": pred_error, \"pred_std\": pred_std, \"timestamp\": timestamps, \"ts_labels\": ts_labels} )\n",
    "stats = stats.sort_values(\"timestamp\")\n",
    "\n",
    "#with open(\"full_data_regr.pkl\", \"rb\") as f:\n",
    "#    regressor = pkl.load(f)\n",
    "\n",
    "#with open(\"rfr_mb_nice.pkl\", \"rb\") as f:\n",
    "#    old_regressor = pkl.load(f)\n",
    "    \n",
    "#full_labels[\"new_regr_pred\"] = regressor.predict(full_train_data)\n",
    "#full_labels[\"old_pred\"] = old_regressor.predict(full_train_data)"
   ]
  },
  {
   "cell_type": "code",
   "execution_count": 3,
   "metadata": {},
   "outputs": [
    {
     "data": {
      "text/html": [
       "<div>\n",
       "<style scoped>\n",
       "    .dataframe tbody tr th:only-of-type {\n",
       "        vertical-align: middle;\n",
       "    }\n",
       "\n",
       "    .dataframe tbody tr th {\n",
       "        vertical-align: top;\n",
       "    }\n",
       "\n",
       "    .dataframe thead th {\n",
       "        text-align: right;\n",
       "    }\n",
       "</style>\n",
       "<table border=\"1\" class=\"dataframe\">\n",
       "  <thead>\n",
       "    <tr style=\"text-align: right;\">\n",
       "      <th></th>\n",
       "      <th>ya_dur</th>\n",
       "      <th>osrm_dur</th>\n",
       "      <th>dist</th>\n",
       "    </tr>\n",
       "  </thead>\n",
       "  <tbody>\n",
       "    <tr>\n",
       "      <th>0</th>\n",
       "      <td>41.561933</td>\n",
       "      <td>35.213333</td>\n",
       "      <td>31.489</td>\n",
       "    </tr>\n",
       "    <tr>\n",
       "      <th>1</th>\n",
       "      <td>51.455894</td>\n",
       "      <td>53.161667</td>\n",
       "      <td>58.064</td>\n",
       "    </tr>\n",
       "    <tr>\n",
       "      <th>2</th>\n",
       "      <td>45.824583</td>\n",
       "      <td>42.710000</td>\n",
       "      <td>49.139</td>\n",
       "    </tr>\n",
       "    <tr>\n",
       "      <th>3</th>\n",
       "      <td>19.408894</td>\n",
       "      <td>7.653333</td>\n",
       "      <td>5.306</td>\n",
       "    </tr>\n",
       "    <tr>\n",
       "      <th>4</th>\n",
       "      <td>34.550419</td>\n",
       "      <td>32.640000</td>\n",
       "      <td>39.779</td>\n",
       "    </tr>\n",
       "    <tr>\n",
       "      <th>...</th>\n",
       "      <td>...</td>\n",
       "      <td>...</td>\n",
       "      <td>...</td>\n",
       "    </tr>\n",
       "    <tr>\n",
       "      <th>147986</th>\n",
       "      <td>46.248957</td>\n",
       "      <td>43.398333</td>\n",
       "      <td>51.410</td>\n",
       "    </tr>\n",
       "    <tr>\n",
       "      <th>147987</th>\n",
       "      <td>53.369956</td>\n",
       "      <td>52.823333</td>\n",
       "      <td>64.818</td>\n",
       "    </tr>\n",
       "    <tr>\n",
       "      <th>147988</th>\n",
       "      <td>45.173141</td>\n",
       "      <td>41.486667</td>\n",
       "      <td>52.569</td>\n",
       "    </tr>\n",
       "    <tr>\n",
       "      <th>147989</th>\n",
       "      <td>34.569927</td>\n",
       "      <td>24.561667</td>\n",
       "      <td>17.074</td>\n",
       "    </tr>\n",
       "    <tr>\n",
       "      <th>147990</th>\n",
       "      <td>51.338581</td>\n",
       "      <td>29.115000</td>\n",
       "      <td>19.490</td>\n",
       "    </tr>\n",
       "  </tbody>\n",
       "</table>\n",
       "<p>147991 rows × 3 columns</p>\n",
       "</div>"
      ],
      "text/plain": [
       "           ya_dur   osrm_dur    dist\n",
       "0       41.561933  35.213333  31.489\n",
       "1       51.455894  53.161667  58.064\n",
       "2       45.824583  42.710000  49.139\n",
       "3       19.408894   7.653333   5.306\n",
       "4       34.550419  32.640000  39.779\n",
       "...           ...        ...     ...\n",
       "147986  46.248957  43.398333  51.410\n",
       "147987  53.369956  52.823333  64.818\n",
       "147988  45.173141  41.486667  52.569\n",
       "147989  34.569927  24.561667  17.074\n",
       "147990  51.338581  29.115000  19.490\n",
       "\n",
       "[147991 rows x 3 columns]"
      ]
     },
     "execution_count": 3,
     "metadata": {},
     "output_type": "execute_result"
    }
   ],
   "source": [
    "full_labels"
   ]
  },
  {
   "cell_type": "code",
   "execution_count": 4,
   "metadata": {},
   "outputs": [],
   "source": [
    "X = pd.DataFrame(data=full_train_data, columns=[\"osrm\", \"distance\", \"n_slow\", \"n_medium\", \"n_fast\", \"n_free\"])"
   ]
  },
  {
   "cell_type": "code",
   "execution_count": 5,
   "metadata": {},
   "outputs": [],
   "source": [
    "dataset = df_concat = pd.concat([full_labels, X], axis=1)"
   ]
  },
  {
   "cell_type": "code",
   "execution_count": 6,
   "metadata": {},
   "outputs": [],
   "source": [
    "X_train, X_test, y_train, y_test = train_test_split(X, dataset[\"ya_dur\"], test_size=0.2, random_state=0)"
   ]
  },
  {
   "cell_type": "code",
   "execution_count": 7,
   "metadata": {},
   "outputs": [],
   "source": [
    "sc = StandardScaler()\n",
    "X_train = sc.fit_transform(X_train)\n",
    "X_test = sc.transform(X_test)"
   ]
  },
  {
   "cell_type": "code",
   "execution_count": 28,
   "metadata": {},
   "outputs": [],
   "source": [
    "regr = RandomForestRegressor(max_depth=3, n_estimators=50, random_state=2310, n_jobs=8, verbose=3, criterion=\"mae\")"
   ]
  },
  {
   "cell_type": "code",
   "execution_count": 29,
   "metadata": {},
   "outputs": [
    {
     "name": "stderr",
     "output_type": "stream",
     "text": [
      "[Parallel(n_jobs=8)]: Using backend ThreadingBackend with 8 concurrent workers.\n"
     ]
    },
    {
     "name": "stdout",
     "output_type": "stream",
     "text": [
      "building tree 1 of 50\n",
      "building tree 2 of 50\n",
      "building tree 3 of 50\n",
      "building tree 4 of 50\n",
      "building tree 5 of 50\n",
      "building tree 6 of 50\n",
      "building tree 7 of 50\n",
      "building tree 8 of 50\n",
      "building tree 9 of 50\n",
      "building tree 10 of 50\n",
      "building tree 11 of 50\n",
      "building tree 12 of 50\n",
      "building tree 13 of 50\n",
      "building tree 14 of 50\n",
      "building tree 15 of 50\n",
      "building tree 16 of 50\n",
      "building tree 17 of 50\n",
      "building tree 18 of 50\n",
      "building tree 19 of 50\n",
      "building tree 20 of 50\n",
      "building tree 21 of 50\n",
      "building tree 22 of 50\n",
      "building tree 23 of 50\n"
     ]
    },
    {
     "name": "stderr",
     "output_type": "stream",
     "text": [
      "[Parallel(n_jobs=8)]: Done  16 tasks      | elapsed:  3.0min\n"
     ]
    },
    {
     "name": "stdout",
     "output_type": "stream",
     "text": [
      "building tree 24 of 50\n",
      "building tree 25 of 50\n",
      "building tree 26 of 50\n",
      "building tree 27 of 50\n",
      "building tree 28 of 50\n",
      "building tree 29 of 50\n",
      "building tree 30 of 50\n",
      "building tree 31 of 50\n",
      "building tree 32 of 50\n",
      "building tree 33 of 50\n",
      "building tree 34 of 50\n",
      "building tree 35 of 50\n",
      "building tree 36 of 50\n",
      "building tree 37 of 50\n",
      "building tree 38 of 50\n",
      "building tree 39 of 50\n",
      "building tree 40 of 50\n",
      "building tree 41 of 50\n",
      "building tree 42 of 50\n",
      "building tree 43 of 50\n",
      "building tree 44 of 50\n",
      "building tree 45 of 50\n",
      "building tree 46 of 50\n",
      "building tree 47 of 50\n",
      "building tree 48 of 50\n",
      "building tree 49 of 50\n",
      "building tree 50 of 50\n"
     ]
    },
    {
     "name": "stderr",
     "output_type": "stream",
     "text": [
      "[Parallel(n_jobs=8)]: Done  50 out of  50 | elapsed: 11.1min finished\n"
     ]
    },
    {
     "data": {
      "text/plain": [
       "RandomForestRegressor(criterion='mae', max_depth=3, n_estimators=50, n_jobs=8,\n",
       "                      random_state=2310, verbose=3)"
      ]
     },
     "execution_count": 29,
     "metadata": {},
     "output_type": "execute_result"
    }
   ],
   "source": [
    "regr.fit(X_train, y_train)"
   ]
  },
  {
   "cell_type": "code",
   "execution_count": 30,
   "metadata": {},
   "outputs": [
    {
     "name": "stderr",
     "output_type": "stream",
     "text": [
      "[Parallel(n_jobs=8)]: Using backend ThreadingBackend with 8 concurrent workers.\n",
      "[Parallel(n_jobs=8)]: Done  16 tasks      | elapsed:    0.0s\n",
      "[Parallel(n_jobs=8)]: Done  50 out of  50 | elapsed:    0.0s finished\n"
     ]
    }
   ],
   "source": [
    "y_pred = regr.predict(X_test)"
   ]
  },
  {
   "cell_type": "code",
   "execution_count": 31,
   "metadata": {},
   "outputs": [
    {
     "name": "stdout",
     "output_type": "stream",
     "text": [
      "Mean Absolute Error: 5.553921084834444\n",
      "Mean Squared Error: 74.09636669321927\n",
      "Root Mean Squared Error: 8.607924644954744\n"
     ]
    }
   ],
   "source": [
    "print('Mean Absolute Error:', metrics.mean_absolute_error(y_test, y_pred))\n",
    "print('Mean Squared Error:', metrics.mean_squared_error(y_test, y_pred))\n",
    "print('Root Mean Squared Error:', np.sqrt(metrics.mean_squared_error(y_test, y_pred)))"
   ]
  },
  {
   "cell_type": "code",
   "execution_count": 32,
   "metadata": {},
   "outputs": [
    {
     "data": {
      "image/png": "[encoded data removed]",
      "text/plain": [
       "<Figure size 1080x720 with 1 Axes>"
      ]
     },
     "metadata": {
      "needs_background": "light"
     },
     "output_type": "display_data"
    }
   ],
   "source": [
    "error = np.array(full_labels.ya_dur) - np.array(full_labels.osrm_dur)\n",
    "std = np.std(error)\n",
    "mean = np.mean(error)\n",
    "cals, vals = np.histogram(error, bins = 500)\n",
    "plt.hist(error, bins = 500)\n",
    "plt.ylim(0, max(cals)*1.1)\n",
    "plt.xlim(-std*3 + mean, std*3 +  mean)\n",
    "plt.xlabel(\"Prediction Error for route, min [ETA]\")\n",
    "plt.title(f\"OSRM error: mean={mean:.2f}, std={std:.2f}\")\n",
    "_ = plt.ylabel(\"Count\")"
   ]
  },
  {
   "cell_type": "code",
   "execution_count": 33,
   "metadata": {},
   "outputs": [
    {
     "data": {
      "image/png": "[encoded data removed]",
      "text/plain": [
       "<Figure size 1080x720 with 1 Axes>"
      ]
     },
     "metadata": {
      "needs_background": "light"
     },
     "output_type": "display_data"
    }
   ],
   "source": [
    "error = np.array(y_test) - np.array(y_pred)\n",
    "std = np.std(error)\n",
    "mean = np.mean(error)\n",
    "cals, vals = np.histogram(error, bins = 500)\n",
    "plt.hist(error, bins = 500)\n",
    "plt.ylim(0, max(cals)*1.1)\n",
    "plt.xlim(-std*3 + mean, std*3 +  mean)\n",
    "plt.xlabel(\"Prediction Error for route, min [ETA]\")\n",
    "plt.title(f\"Prediction error: mean={mean:.2f}, std={std:.2f}\")\n",
    "_ = plt.ylabel(\"Count\")"
   ]
  },
  {
   "cell_type": "code",
   "execution_count": null,
   "metadata": {},
   "outputs": [],
   "source": []
  },
  {
   "cell_type": "code",
   "execution_count": null,
   "metadata": {},
   "outputs": [],
   "source": []
  }
 ],
 "metadata": {
  "kernelspec": {
   "display_name": "Python 3",
   "language": "python",
   "name": "python3"
  },
  "language_info": {
   "codemirror_mode": {
    "name": "ipython",
    "version": 3
   },
   "file_extension": ".py",
   "mimetype": "text/x-python",
   "name": "python",
   "nbconvert_exporter": "python",
   "pygments_lexer": "ipython3",
   "version": "3.8.5"
  }
 },
 "nbformat": 4,
 "nbformat_minor": 1
}
