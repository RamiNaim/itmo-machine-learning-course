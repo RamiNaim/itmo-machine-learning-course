{
 "cells": [
  {
   "cell_type": "markdown",
   "metadata": {},
   "source": [
    "# Preprocess tracks from PostgreSQL"
   ]
  },
  {
   "cell_type": "code",
   "execution_count": null,
   "metadata": {},
   "outputs": [],
   "source": [
    "import pandas as pd\n",
    "import numpy as np\n",
    "from pandarallel import pandarallel\n",
    "\n",
    "pandarallel.initialize()\n",
    "from tqdm.auto import tqdm\n",
    "tqdm.pandas()"
   ]
  },
  {
   "cell_type": "code",
   "execution_count": null,
   "metadata": {
    "pycharm": {
     "name": "#%%\n"
    }
   },
   "outputs": [],
   "source": [
    "raw_dataset = pd.read_csv(\"data/12_02_2021.csv\")\n",
    "raw_dataset.head()"
   ]
  },
  {
   "cell_type": "code",
   "execution_count": null,
   "metadata": {
    "pycharm": {
     "name": "#%%\n"
    }
   },
   "outputs": [],
   "source": [
    "def process_df(df):\n",
    "\n",
    "    lats = df.lats\n",
    "    lats = lats[1:-1].split(',')\n",
    "    df.lats = np.array(lats).astype(np.float32)\n",
    "\n",
    "    lngs = df.lngs\n",
    "    lngs = lngs[1:-1].split(',')\n",
    "    df.lngs = np.array(lngs).astype(np.float32)\n",
    "\n",
    "    speeds = df.speeds\n",
    "    speeds = speeds[1:-1].split(',')\n",
    "    df.speeds = np.array(speeds).astype(np.uint8)\n",
    "\n",
    "    direction = df.direction\n",
    "    direction = direction[1:-1].split(',')\n",
    "    df.direction = np.array(direction).astype(np.uint8)\n",
    "\n",
    "    ts = df.ts\n",
    "    ts = ts[1:-1].split(',')\n",
    "    df.ts = np.array(ts).astype(np.uint)\n",
    "\n",
    "    return df"
   ]
  },
  {
   "cell_type": "code",
   "execution_count": null,
   "metadata": {
    "pycharm": {
     "name": "#%%\n"
    }
   },
   "outputs": [],
   "source": [
    "dataset = raw_dataset.parallel_apply(process_df, axis=1)"
   ]
  },
  {
   "cell_type": "code",
   "execution_count": null,
   "metadata": {
    "pycharm": {
     "name": "#%%\n"
    }
   },
   "outputs": [],
   "source": [
    "dataset.head()\n",
    "# https://github.com/jmcarpenter2/swifter/"
   ]
  },
  {
   "cell_type": "code",
   "execution_count": null,
   "metadata": {
    "pycharm": {
     "name": "#%%\n"
    }
   },
   "outputs": [],
   "source": [
    "# dataset.to_csv('data/preprocessed_dataset.csv')"
   ]
  },
  {
   "cell_type": "markdown",
   "metadata": {},
   "source": [
    "# Split to small tracks"
   ]
  },
  {
   "cell_type": "code",
   "execution_count": null,
   "metadata": {
    "pycharm": {
     "name": "#%%\n"
    }
   },
   "outputs": [],
   "source": [
    "import pandas as pd\n",
    "import numpy as np\n",
    "import geopy.distance as distance"
   ]
  },
  {
   "cell_type": "code",
   "execution_count": null,
   "metadata": {},
   "outputs": [],
   "source": [
    "def split_tracks(df):\n",
    "    splitted_tracks = []\n",
    "    \n",
    "    speeds = df.speeds[::-1]\n",
    "    ts = df.ts[::-1]\n",
    "    lats = df.lats[::-1]\n",
    "    lons = df.lngs[::-1]\n",
    "\n",
    "    prev_start = 0\n",
    "    dist = 0\n",
    "    for i in range(1, len(lats)):\n",
    "        new_dist = distance.great_circle( (lats[i-1], lons[i-1]), (lats[i], lons[i]) ).km\n",
    "        \n",
    "        if (dist + new_dist) < 2:\n",
    "            dist += new_dist\n",
    "            continue\n",
    "        \n",
    "        track = [ lats[prev_start:i], lons[prev_start:i], ts[prev_start:i], speeds[prev_start:i], dist*1000, i - prev_start ]\n",
    "        prev_start = i\n",
    "        dist = 0\n",
    "        \n",
    "        splitted_tracks.append(track)\n",
    "        \n",
    "    return pd.DataFrame(splitted_tracks)"
   ]
  },
  {
   "cell_type": "code",
   "execution_count": null,
   "metadata": {},
   "outputs": [],
   "source": [
    "split_dataset = dataset.parallel_apply(split_tracks, axis=1)"
   ]
  },
  {
   "cell_type": "code",
   "execution_count": null,
   "metadata": {},
   "outputs": [],
   "source": [
    "corrected_dataset = pd.concat(split_dataset.to_list())"
   ]
  },
  {
   "cell_type": "code",
   "execution_count": null,
   "metadata": {},
   "outputs": [],
   "source": [
    "corrected_dataset.head()"
   ]
  },
  {
   "cell_type": "code",
   "execution_count": null,
   "metadata": {},
   "outputs": [],
   "source": [
    "corrected_dataset.to_csv(\"data/processed_tracks.csv\")"
   ]
  },
  {
   "cell_type": "code",
   "execution_count": null,
   "metadata": {},
   "outputs": [],
   "source": [
    "import pickle as pkl\n",
    "import os"
   ]
  },
  {
   "cell_type": "code",
   "execution_count": null,
   "metadata": {},
   "outputs": [],
   "source": [
    "path = \"/home/rami/Desktop/sd_maps/routing/collected_ds\""
   ]
  },
  {
   "cell_type": "code",
   "execution_count": null,
   "metadata": {},
   "outputs": [],
   "source": [
    "os.listdir(path)"
   ]
  },
  {
   "cell_type": "code",
   "execution_count": null,
   "metadata": {},
   "outputs": [],
   "source": [
    "with open(os.path.join(path, \"train-data_2020-09-19T17:21:56.972509.pkl\"), 'rb') as fname :\n",
    "    train_data = pkl.load(fname)"
   ]
  },
  {
   "cell_type": "code",
   "execution_count": null,
   "metadata": {},
   "outputs": [],
   "source": [
    "pd.DataFrame(train_data).head()"
   ]
  },
  {
   "cell_type": "markdown",
   "metadata": {},
   "source": [
    "# Old RFR approach"
   ]
  },
  {
   "cell_type": "code",
   "execution_count": 180,
   "metadata": {},
   "outputs": [],
   "source": [
    "import numpy as np\n",
    "from matplotlib import pyplot as plt\n",
    "import matplotlib.dates as mdates\n",
    "import pickle as pkl\n",
    "\n",
    "import pandas as pd\n",
    "from datetime import datetime\n",
    "\n",
    "from sklearn.model_selection import train_test_split\n",
    "from sklearn.ensemble import RandomForestRegressor\n",
    "from sklearn.preprocessing import StandardScaler\n",
    "from sklearn import metrics\n",
    "\n",
    "\n",
    "import os\n",
    "dir_name = \"/home/rami/Desktop/sd_maps/routing/collected_ds\"\n",
    "\n",
    "%matplotlib inline\n",
    "\n",
    "from pylab import rcParams\n",
    "rcParams['figure.figsize'] = 15, 10\n",
    "rcParams[\"errorbar.capsize\"] = 5"
   ]
  },
  {
   "cell_type": "code",
   "execution_count": 181,
   "metadata": {},
   "outputs": [],
   "source": [
    "osrm_error = []\n",
    "pred_error = []\n",
    "\n",
    "osrm_std = []\n",
    "pred_std = []\n",
    "\n",
    "full_train_data = []\n",
    "full_labels = pd.DataFrame(columns=[\"ya_dur\", \"osrm_dur\", \"dist\"])\n",
    "\n",
    "timestamps = []\n",
    "ts_labels = []\n",
    "fnames = os.listdir(dir_name)\n",
    "fnames.sort()\n",
    "for name in fnames:\n",
    "    if name[-3:] != \"csv\":\n",
    "        with open(os.path.join(dir_name, name), \"rb\") as f:\n",
    "            full_train_data.extend(pkl.load(f))\n",
    "        continue\n",
    "    \n",
    "    labels = pd.read_csv(os.path.join(dir_name, name))\n",
    "    osrm_error.append(np.mean(labels.ya_dur - labels.osrm_dur))\n",
    "    osrm_std.append(np.std(labels.ya_dur - labels.osrm_dur))\n",
    "    \n",
    "    pred_error.append(np.mean(labels.ya_dur - labels.pred))\n",
    "    pred_std.append(np.std(labels.ya_dur - labels.pred))\n",
    "    \n",
    "    ts_srt = name[:-4]\n",
    "    ts_srt = ts_srt.split(\"_\")[1]\n",
    "    ts = datetime.strptime(ts_srt, '%Y-%m-%dT%H:%M:%S.%f')\n",
    "    # timestamps.append( f\"{ts.day}.{ts.month} {ts.hour}:{ts.minute}\" )\n",
    "    timestamps.append(datetime.strptime(ts_srt, '%Y-%m-%dT%H:%M:%S.%f'))\n",
    "    ts_labels.append( f\"{ts.day}.{ts.month} {ts.hour}:{ts.minute}\" )\n",
    "    labels[\"hour\"] = [ts.hour] * len(labels)\n",
    "    \n",
    "    full_labels = full_labels.append( labels[[\"ya_dur\", \"osrm_dur\", \"dist\", \"hour\"]], ignore_index=1 )\n",
    "    \n",
    "stats = pd.DataFrame( {\"osrm_error\": osrm_error, \"osrm_std\": osrm_std, \"pred_error\": pred_error, \"pred_std\": pred_std, \"timestamp\": timestamps, \"ts_labels\": ts_labels} )\n",
    "stats = stats.sort_values(\"timestamp\")\n",
    "\n",
    "#with open(\"full_data_regr.pkl\", \"rb\") as f:\n",
    "#    regressor = pkl.load(f)\n",
    "\n",
    "#with open(\"rfr_mb_nice.pkl\", \"rb\") as f:\n",
    "#    old_regressor = pkl.load(f)\n",
    "    \n",
    "#full_labels[\"new_regr_pred\"] = regressor.predict(full_train_data)\n",
    "#full_labels[\"old_pred\"] = old_regressor.predict(full_train_data)"
   ]
  },
  {
   "cell_type": "code",
   "execution_count": 182,
   "metadata": {},
   "outputs": [
    {
     "data": {
      "text/html": [
       "<div>\n",
       "<style scoped>\n",
       "    .dataframe tbody tr th:only-of-type {\n",
       "        vertical-align: middle;\n",
       "    }\n",
       "\n",
       "    .dataframe tbody tr th {\n",
       "        vertical-align: top;\n",
       "    }\n",
       "\n",
       "    .dataframe thead th {\n",
       "        text-align: right;\n",
       "    }\n",
       "</style>\n",
       "<table border=\"1\" class=\"dataframe\">\n",
       "  <thead>\n",
       "    <tr style=\"text-align: right;\">\n",
       "      <th></th>\n",
       "      <th>ya_dur</th>\n",
       "      <th>osrm_dur</th>\n",
       "      <th>dist</th>\n",
       "      <th>hour</th>\n",
       "    </tr>\n",
       "  </thead>\n",
       "  <tbody>\n",
       "    <tr>\n",
       "      <th>0</th>\n",
       "      <td>41.561933</td>\n",
       "      <td>35.213333</td>\n",
       "      <td>31.489</td>\n",
       "      <td>21.0</td>\n",
       "    </tr>\n",
       "    <tr>\n",
       "      <th>1</th>\n",
       "      <td>51.455894</td>\n",
       "      <td>53.161667</td>\n",
       "      <td>58.064</td>\n",
       "      <td>21.0</td>\n",
       "    </tr>\n",
       "    <tr>\n",
       "      <th>2</th>\n",
       "      <td>45.824583</td>\n",
       "      <td>42.710000</td>\n",
       "      <td>49.139</td>\n",
       "      <td>21.0</td>\n",
       "    </tr>\n",
       "    <tr>\n",
       "      <th>3</th>\n",
       "      <td>19.408894</td>\n",
       "      <td>7.653333</td>\n",
       "      <td>5.306</td>\n",
       "      <td>21.0</td>\n",
       "    </tr>\n",
       "    <tr>\n",
       "      <th>4</th>\n",
       "      <td>34.550419</td>\n",
       "      <td>32.640000</td>\n",
       "      <td>39.779</td>\n",
       "      <td>21.0</td>\n",
       "    </tr>\n",
       "    <tr>\n",
       "      <th>...</th>\n",
       "      <td>...</td>\n",
       "      <td>...</td>\n",
       "      <td>...</td>\n",
       "      <td>...</td>\n",
       "    </tr>\n",
       "    <tr>\n",
       "      <th>147986</th>\n",
       "      <td>46.248957</td>\n",
       "      <td>43.398333</td>\n",
       "      <td>51.410</td>\n",
       "      <td>17.0</td>\n",
       "    </tr>\n",
       "    <tr>\n",
       "      <th>147987</th>\n",
       "      <td>53.369956</td>\n",
       "      <td>52.823333</td>\n",
       "      <td>64.818</td>\n",
       "      <td>17.0</td>\n",
       "    </tr>\n",
       "    <tr>\n",
       "      <th>147988</th>\n",
       "      <td>45.173141</td>\n",
       "      <td>41.486667</td>\n",
       "      <td>52.569</td>\n",
       "      <td>17.0</td>\n",
       "    </tr>\n",
       "    <tr>\n",
       "      <th>147989</th>\n",
       "      <td>34.569927</td>\n",
       "      <td>24.561667</td>\n",
       "      <td>17.074</td>\n",
       "      <td>17.0</td>\n",
       "    </tr>\n",
       "    <tr>\n",
       "      <th>147990</th>\n",
       "      <td>51.338581</td>\n",
       "      <td>29.115000</td>\n",
       "      <td>19.490</td>\n",
       "      <td>17.0</td>\n",
       "    </tr>\n",
       "  </tbody>\n",
       "</table>\n",
       "<p>147991 rows × 4 columns</p>\n",
       "</div>"
      ],
      "text/plain": [
       "           ya_dur   osrm_dur    dist  hour\n",
       "0       41.561933  35.213333  31.489  21.0\n",
       "1       51.455894  53.161667  58.064  21.0\n",
       "2       45.824583  42.710000  49.139  21.0\n",
       "3       19.408894   7.653333   5.306  21.0\n",
       "4       34.550419  32.640000  39.779  21.0\n",
       "...           ...        ...     ...   ...\n",
       "147986  46.248957  43.398333  51.410  17.0\n",
       "147987  53.369956  52.823333  64.818  17.0\n",
       "147988  45.173141  41.486667  52.569  17.0\n",
       "147989  34.569927  24.561667  17.074  17.0\n",
       "147990  51.338581  29.115000  19.490  17.0\n",
       "\n",
       "[147991 rows x 4 columns]"
      ]
     },
     "execution_count": 182,
     "metadata": {},
     "output_type": "execute_result"
    }
   ],
   "source": [
    "full_labels"
   ]
  },
  {
   "cell_type": "code",
   "execution_count": 183,
   "metadata": {},
   "outputs": [
    {
     "data": {
      "text/html": [
       "<div>\n",
       "<style scoped>\n",
       "    .dataframe tbody tr th:only-of-type {\n",
       "        vertical-align: middle;\n",
       "    }\n",
       "\n",
       "    .dataframe tbody tr th {\n",
       "        vertical-align: top;\n",
       "    }\n",
       "\n",
       "    .dataframe thead th {\n",
       "        text-align: right;\n",
       "    }\n",
       "</style>\n",
       "<table border=\"1\" class=\"dataframe\">\n",
       "  <thead>\n",
       "    <tr style=\"text-align: right;\">\n",
       "      <th></th>\n",
       "      <th>osrm</th>\n",
       "      <th>distance</th>\n",
       "      <th>n_slow</th>\n",
       "      <th>n_medium</th>\n",
       "      <th>n_fast</th>\n",
       "      <th>n_free</th>\n",
       "      <th>hour</th>\n",
       "    </tr>\n",
       "  </thead>\n",
       "  <tbody>\n",
       "    <tr>\n",
       "      <th>0</th>\n",
       "      <td>35.213333</td>\n",
       "      <td>31.489</td>\n",
       "      <td>0</td>\n",
       "      <td>5</td>\n",
       "      <td>13</td>\n",
       "      <td>20</td>\n",
       "      <td>21.0</td>\n",
       "    </tr>\n",
       "    <tr>\n",
       "      <th>1</th>\n",
       "      <td>53.161667</td>\n",
       "      <td>58.064</td>\n",
       "      <td>0</td>\n",
       "      <td>13</td>\n",
       "      <td>12</td>\n",
       "      <td>17</td>\n",
       "      <td>21.0</td>\n",
       "    </tr>\n",
       "    <tr>\n",
       "      <th>2</th>\n",
       "      <td>42.710000</td>\n",
       "      <td>49.139</td>\n",
       "      <td>1</td>\n",
       "      <td>8</td>\n",
       "      <td>2</td>\n",
       "      <td>42</td>\n",
       "      <td>21.0</td>\n",
       "    </tr>\n",
       "    <tr>\n",
       "      <th>3</th>\n",
       "      <td>7.653333</td>\n",
       "      <td>5.306</td>\n",
       "      <td>0</td>\n",
       "      <td>6</td>\n",
       "      <td>5</td>\n",
       "      <td>4</td>\n",
       "      <td>21.0</td>\n",
       "    </tr>\n",
       "    <tr>\n",
       "      <th>4</th>\n",
       "      <td>32.640000</td>\n",
       "      <td>39.779</td>\n",
       "      <td>1</td>\n",
       "      <td>9</td>\n",
       "      <td>6</td>\n",
       "      <td>71</td>\n",
       "      <td>21.0</td>\n",
       "    </tr>\n",
       "    <tr>\n",
       "      <th>...</th>\n",
       "      <td>...</td>\n",
       "      <td>...</td>\n",
       "      <td>...</td>\n",
       "      <td>...</td>\n",
       "      <td>...</td>\n",
       "      <td>...</td>\n",
       "      <td>...</td>\n",
       "    </tr>\n",
       "    <tr>\n",
       "      <th>147986</th>\n",
       "      <td>43.398333</td>\n",
       "      <td>51.410</td>\n",
       "      <td>2</td>\n",
       "      <td>7</td>\n",
       "      <td>5</td>\n",
       "      <td>38</td>\n",
       "      <td>17.0</td>\n",
       "    </tr>\n",
       "    <tr>\n",
       "      <th>147987</th>\n",
       "      <td>52.823333</td>\n",
       "      <td>64.818</td>\n",
       "      <td>0</td>\n",
       "      <td>3</td>\n",
       "      <td>3</td>\n",
       "      <td>13</td>\n",
       "      <td>17.0</td>\n",
       "    </tr>\n",
       "    <tr>\n",
       "      <th>147988</th>\n",
       "      <td>41.486667</td>\n",
       "      <td>52.569</td>\n",
       "      <td>2</td>\n",
       "      <td>4</td>\n",
       "      <td>14</td>\n",
       "      <td>101</td>\n",
       "      <td>17.0</td>\n",
       "    </tr>\n",
       "    <tr>\n",
       "      <th>147989</th>\n",
       "      <td>24.561667</td>\n",
       "      <td>17.074</td>\n",
       "      <td>1</td>\n",
       "      <td>21</td>\n",
       "      <td>21</td>\n",
       "      <td>11</td>\n",
       "      <td>17.0</td>\n",
       "    </tr>\n",
       "    <tr>\n",
       "      <th>147990</th>\n",
       "      <td>29.115000</td>\n",
       "      <td>19.490</td>\n",
       "      <td>0</td>\n",
       "      <td>18</td>\n",
       "      <td>24</td>\n",
       "      <td>8</td>\n",
       "      <td>17.0</td>\n",
       "    </tr>\n",
       "  </tbody>\n",
       "</table>\n",
       "<p>147991 rows × 7 columns</p>\n",
       "</div>"
      ],
      "text/plain": [
       "             osrm  distance  n_slow  n_medium  n_fast  n_free  hour\n",
       "0       35.213333    31.489       0         5      13      20  21.0\n",
       "1       53.161667    58.064       0        13      12      17  21.0\n",
       "2       42.710000    49.139       1         8       2      42  21.0\n",
       "3        7.653333     5.306       0         6       5       4  21.0\n",
       "4       32.640000    39.779       1         9       6      71  21.0\n",
       "...           ...       ...     ...       ...     ...     ...   ...\n",
       "147986  43.398333    51.410       2         7       5      38  17.0\n",
       "147987  52.823333    64.818       0         3       3      13  17.0\n",
       "147988  41.486667    52.569       2         4      14     101  17.0\n",
       "147989  24.561667    17.074       1        21      21      11  17.0\n",
       "147990  29.115000    19.490       0        18      24       8  17.0\n",
       "\n",
       "[147991 rows x 7 columns]"
      ]
     },
     "execution_count": 183,
     "metadata": {},
     "output_type": "execute_result"
    }
   ],
   "source": [
    "X = pd.DataFrame(data=full_train_data, columns=[\"osrm\", \"distance\", \"n_slow\", \"n_medium\", \"n_fast\", \"n_free\"])\n",
    "X[\"hour\"] = full_labels.hour.to_numpy()\n",
    "del full_labels[\"hour\"]\n",
    "X"
   ]
  },
  {
   "cell_type": "code",
   "execution_count": 184,
   "metadata": {},
   "outputs": [],
   "source": [
    "dataset = pd.concat([full_labels, X], axis=1)"
   ]
  },
  {
   "cell_type": "code",
   "execution_count": 185,
   "metadata": {},
   "outputs": [],
   "source": [
    "X_train, X_test, y_train, y_test = train_test_split(X, dataset[\"ya_dur\"], test_size=0.2, random_state=0)"
   ]
  },
  {
   "cell_type": "code",
   "execution_count": 186,
   "metadata": {},
   "outputs": [],
   "source": [
    "sc = StandardScaler()\n",
    "X_train = sc.fit_transform(X_train)\n",
    "X_test = sc.transform(X_test)"
   ]
  },
  {
   "cell_type": "code",
   "execution_count": null,
   "metadata": {},
   "outputs": [
    {
     "name": "stdout",
     "output_type": "stream",
     "text": [
      "Epoch 1/100\n",
      "11840/11840 [==============================] - 18s 1ms/step - loss: 5.2941 - val_loss: 4.5878\n",
      "Epoch 2/100\n",
      "11840/11840 [==============================] - 18s 2ms/step - loss: 4.6236 - val_loss: 4.6515\n",
      "Epoch 3/100\n",
      "11840/11840 [==============================] - 18s 1ms/step - loss: 4.6128 - val_loss: 4.5462\n",
      "Epoch 4/100\n",
      "11840/11840 [==============================] - 18s 1ms/step - loss: 4.6048 - val_loss: 4.5494\n",
      "Epoch 5/100\n",
      "11840/11840 [==============================] - 18s 1ms/step - loss: 4.6034 - val_loss: 4.6093\n",
      "Epoch 6/100\n",
      "11840/11840 [==============================] - 18s 1ms/step - loss: 4.6004 - val_loss: 4.5896\n",
      "Epoch 7/100\n",
      "11840/11840 [==============================] - 18s 1ms/step - loss: 4.6008 - val_loss: 4.5522\n",
      "Epoch 8/100\n",
      "11840/11840 [==============================] - 18s 1ms/step - loss: 4.5947 - val_loss: 4.5447\n",
      "Epoch 9/100\n",
      "11840/11840 [==============================] - 18s 1ms/step - loss: 4.5944 - val_loss: 4.5789\n",
      "Epoch 10/100\n",
      "11840/11840 [==============================] - 18s 1ms/step - loss: 4.5905 - val_loss: 4.5320\n",
      "Epoch 11/100\n",
      "11840/11840 [==============================] - 18s 1ms/step - loss: 4.5895 - val_loss: 4.5431\n",
      "Epoch 12/100\n",
      "11840/11840 [==============================] - 18s 1ms/step - loss: 4.5850 - val_loss: 4.5420\n",
      "Epoch 13/100\n",
      "11840/11840 [==============================] - 18s 1ms/step - loss: 4.5885 - val_loss: 4.5347\n",
      "Epoch 14/100\n",
      "11840/11840 [==============================] - 18s 1ms/step - loss: 4.5826 - val_loss: 4.5319\n",
      "Epoch 15/100\n",
      "11840/11840 [==============================] - 18s 1ms/step - loss: 4.5822 - val_loss: 4.5318\n",
      "Epoch 16/100\n",
      "11840/11840 [==============================] - 18s 1ms/step - loss: 4.5792 - val_loss: 4.5603\n",
      "Epoch 17/100\n",
      "11840/11840 [==============================] - 18s 1ms/step - loss: 4.5767 - val_loss: 4.5325\n",
      "Epoch 18/100\n",
      "11840/11840 [==============================] - 18s 1ms/step - loss: 4.5736 - val_loss: 4.5516\n",
      "Epoch 19/100\n",
      "11840/11840 [==============================] - 18s 1ms/step - loss: 4.5753 - val_loss: 4.5410\n",
      "Epoch 20/100\n",
      "11840/11840 [==============================] - 18s 1ms/step - loss: 4.5718 - val_loss: 4.5224\n",
      "Epoch 21/100\n",
      "11840/11840 [==============================] - 18s 1ms/step - loss: 4.5714 - val_loss: 4.5400\n",
      "Epoch 22/100\n",
      "11840/11840 [==============================] - 18s 1ms/step - loss: 4.5707 - val_loss: 4.5251\n",
      "Epoch 23/100\n",
      "11840/11840 [==============================] - 18s 1ms/step - loss: 4.5687 - val_loss: 4.5410\n",
      "Epoch 24/100\n",
      "11840/11840 [==============================] - 18s 1ms/step - loss: 4.5674 - val_loss: 4.5351\n",
      "Epoch 25/100\n",
      "11840/11840 [==============================] - 18s 1ms/step - loss: 4.5665 - val_loss: 4.5438\n",
      "Epoch 26/100\n",
      "11840/11840 [==============================] - 17s 1ms/step - loss: 4.5663 - val_loss: 4.5201\n",
      "Epoch 27/100\n",
      "11840/11840 [==============================] - 18s 1ms/step - loss: 4.5643 - val_loss: 4.5334\n",
      "Epoch 28/100\n",
      "11840/11840 [==============================] - 18s 1ms/step - loss: 4.5626 - val_loss: 4.5285\n",
      "Epoch 29/100\n",
      "11840/11840 [==============================] - 18s 1ms/step - loss: 4.5638 - val_loss: 4.5046\n",
      "Epoch 30/100\n",
      "11840/11840 [==============================] - 18s 1ms/step - loss: 4.5633 - val_loss: 4.5207\n",
      "Epoch 31/100\n",
      "11840/11840 [==============================] - 18s 1ms/step - loss: 4.5622 - val_loss: 4.5048\n",
      "Epoch 32/100\n",
      "11840/11840 [==============================] - 18s 1ms/step - loss: 4.5627 - val_loss: 4.5096\n",
      "Epoch 33/100\n",
      "11840/11840 [==============================] - 17s 1ms/step - loss: 4.5613 - val_loss: 4.5594\n",
      "Epoch 34/100\n",
      "11840/11840 [==============================] - 18s 1ms/step - loss: 4.5612 - val_loss: 4.5097\n",
      "Epoch 35/100\n",
      "11840/11840 [==============================] - 18s 1ms/step - loss: 4.5586 - val_loss: 4.5327\n",
      "Epoch 36/100\n",
      "11840/11840 [==============================] - 18s 1ms/step - loss: 4.5606 - val_loss: 4.5166\n",
      "Epoch 37/100\n",
      " 5923/11840 [==============>...............] - ETA: 7s - loss: 4.5267"
     ]
    }
   ],
   "source": [
    "import numpy as np\n",
    "from keras.layers import Dense, Activation, LSTM\n",
    "from keras.models import Sequential\n",
    "from keras.callbacks import EarlyStopping\n",
    "\n",
    "import matplotlib.pyplot as plt\n",
    "\n",
    "callback = EarlyStopping(monitor='loss', patience=3)\n",
    "\n",
    "# Initialising the ANN\n",
    "model = Sequential()\n",
    "\n",
    "# Adding the input layer and the first hidden layer\n",
    "model.add(Dense(16, activation = 'relu', input_dim = 7))\n",
    "\n",
    "# Adding the second hidden layer\n",
    "model.add(Dense(units = 8, activation = 'relu'))\n",
    "\n",
    "# Adding the second hidden layer\n",
    "model.add(Dense(units = 8, activation = 'relu'))\n",
    "\n",
    "# Adding the output layer\n",
    "\n",
    "model.add(Dense(units = 1))\n",
    "\n",
    "#model.add(Dense(1))\n",
    "# Compiling the ANN\n",
    "model.compile(optimizer = 'adam', loss = 'mae')\n",
    "\n",
    "# Fitting the ANN to the Training set\n",
    "history = model.fit(X_train, y_train, batch_size = 10, epochs = 100, validation_data=(X_test, y_test), callbacks=[callback] )\n",
    "\n",
    "y_pred = model.predict(X_test)"
   ]
  },
  {
   "cell_type": "code",
   "execution_count": 141,
   "metadata": {},
   "outputs": [
    {
     "data": {
      "image/png": "[encoded data removed]",
      "text/plain": [
       "<Figure size 1080x720 with 1 Axes>"
      ]
     },
     "metadata": {
      "needs_background": "light"
     },
     "output_type": "display_data"
    }
   ],
   "source": [
    "plt.plot(y_test.to_numpy(), color = 'red', label = 'Real data')\n",
    "plt.plot(y_pred, color = 'blue', label = 'Predicted data')\n",
    "plt.title('Prediction')\n",
    "plt.legend()\n",
    "plt.show()"
   ]
  },
  {
   "cell_type": "code",
   "execution_count": 142,
   "metadata": {
    "scrolled": true
   },
   "outputs": [
    {
     "name": "stdout",
     "output_type": "stream",
     "text": [
      "Mean Absolute Error: 4.5241331449402304\n",
      "Mean Squared Error: 60.805216076852474\n",
      "Root Mean Squared Error: 7.79776994254463\n"
     ]
    }
   ],
   "source": [
    "print('Mean Absolute Error:', metrics.mean_absolute_error(y_test, y_pred))\n",
    "print('Mean Squared Error:', metrics.mean_squared_error(y_test, y_pred))\n",
    "print('Root Mean Squared Error:', np.sqrt(metrics.mean_squared_error(y_test, y_pred)))"
   ]
  },
  {
   "cell_type": "code",
   "execution_count": 143,
   "metadata": {},
   "outputs": [
    {
     "data": {
      "image/png": "[encoded data removed]",
      "text/plain": [
       "<Figure size 1080x720 with 1 Axes>"
      ]
     },
     "metadata": {
      "needs_background": "light"
     },
     "output_type": "display_data"
    }
   ],
   "source": [
    "plt.plot(history.history['loss'])\n",
    "plt.plot(history.history['val_loss'])\n",
    "plt.title('model loss')\n",
    "plt.ylabel('loss')\n",
    "plt.xlabel('epoch')\n",
    "plt.legend(['train', 'val'], loc='upper left')\n",
    "plt.show()"
   ]
  },
  {
   "cell_type": "code",
   "execution_count": 144,
   "metadata": {},
   "outputs": [
    {
     "data": {
      "text/plain": [
       "138640     8.174016\n",
       "84933     19.886165\n",
       "20224     47.614875\n",
       "57593     40.034584\n",
       "142358    36.934130\n",
       "            ...    \n",
       "12501     50.422163\n",
       "84302     30.092474\n",
       "61799     30.892472\n",
       "92993     25.621937\n",
       "89485      9.536235\n",
       "Name: ya_dur, Length: 29599, dtype: float64"
      ]
     },
     "execution_count": 144,
     "metadata": {},
     "output_type": "execute_result"
    }
   ],
   "source": [
    "y_test"
   ]
  },
  {
   "cell_type": "code",
   "execution_count": 145,
   "metadata": {},
   "outputs": [
    {
     "data": {
      "text/plain": [
       "array([10.848913, 22.129646, 43.361267, ..., 35.10698 , 26.553143,\n",
       "        8.924616], dtype=float32)"
      ]
     },
     "execution_count": 145,
     "metadata": {},
     "output_type": "execute_result"
    }
   ],
   "source": [
    "y_pred.flatten()"
   ]
  },
  {
   "cell_type": "code",
   "execution_count": 146,
   "metadata": {},
   "outputs": [],
   "source": [
    "test = dataset.iloc[y_test.index]"
   ]
  },
  {
   "cell_type": "code",
   "execution_count": 147,
   "metadata": {},
   "outputs": [
    {
     "name": "stderr",
     "output_type": "stream",
     "text": [
      "<ipython-input-147-b78cbc926ff7>:1: SettingWithCopyWarning: \n",
      "A value is trying to be set on a copy of a slice from a DataFrame.\n",
      "Try using .loc[row_indexer,col_indexer] = value instead\n",
      "\n",
      "See the caveats in the documentation: https://pandas.pydata.org/pandas-docs/stable/user_guide/indexing.html#returning-a-view-versus-a-copy\n",
      "  test[\"error\"] = test[\"ya_dur\"] - y_pred.flatten()\n",
      "<ipython-input-147-b78cbc926ff7>:2: SettingWithCopyWarning: \n",
      "A value is trying to be set on a copy of a slice from a DataFrame.\n",
      "Try using .loc[row_indexer,col_indexer] = value instead\n",
      "\n",
      "See the caveats in the documentation: https://pandas.pydata.org/pandas-docs/stable/user_guide/indexing.html#returning-a-view-versus-a-copy\n",
      "  test[\"osrm_error\"] = test[\"ya_dur\"] - test[\"osrm_dur\"]\n"
     ]
    }
   ],
   "source": [
    "test[\"error\"] = test[\"ya_dur\"] - y_pred.flatten()\n",
    "test[\"osrm_error\"] = test[\"ya_dur\"] - test[\"osrm_dur\"]"
   ]
  },
  {
   "cell_type": "code",
   "execution_count": 148,
   "metadata": {},
   "outputs": [
    {
     "data": {
      "text/plain": [
       "8.101797943971254"
      ]
     },
     "execution_count": 148,
     "metadata": {},
     "output_type": "execute_result"
    }
   ],
   "source": [
    "sklearn.metrics.mean_absolute_error(test[\"ya_dur\"], test[\"osrm_dur\"])"
   ]
  },
  {
   "cell_type": "code",
   "execution_count": 149,
   "metadata": {},
   "outputs": [
    {
     "data": {
      "text/plain": [
       "4.5241331449402304"
      ]
     },
     "execution_count": 149,
     "metadata": {},
     "output_type": "execute_result"
    }
   ],
   "source": [
    "sklearn.metrics.mean_absolute_error(test[\"ya_dur\"], y_pred)"
   ]
  },
  {
   "cell_type": "code",
   "execution_count": 187,
   "metadata": {},
   "outputs": [
    {
     "name": "stderr",
     "output_type": "stream",
     "text": [
      "<ipython-input-187-d7b896b3b092>:2: SettingWithCopyWarning: \n",
      "A value is trying to be set on a copy of a slice from a DataFrame.\n",
      "Try using .loc[row_indexer,col_indexer] = value instead\n",
      "\n",
      "See the caveats in the documentation: https://pandas.pydata.org/pandas-docs/stable/user_guide/indexing.html#returning-a-view-versus-a-copy\n",
      "  test[\"error\"] = abs(test[\"ya_dur\"] - y_pred.flatten()) / test[\"ya_dur\"]\n",
      "<ipython-input-187-d7b896b3b092>:3: SettingWithCopyWarning: \n",
      "A value is trying to be set on a copy of a slice from a DataFrame.\n",
      "Try using .loc[row_indexer,col_indexer] = value instead\n",
      "\n",
      "See the caveats in the documentation: https://pandas.pydata.org/pandas-docs/stable/user_guide/indexing.html#returning-a-view-versus-a-copy\n",
      "  test[\"osrm_error\"] = abs(test[\"ya_dur\"] - test[\"osrm_dur\"]) / test[\"ya_dur\"]\n"
     ]
    }
   ],
   "source": [
    "test = dataset.iloc[y_test.index]\n",
    "test[\"error\"] = abs(test[\"ya_dur\"] - y_pred.flatten()) / test[\"ya_dur\"]\n",
    "std = np.std(test.osrm_error)\n",
    "mean = np.mean(test.osrm_error)\n",
    "cals, vals = np.histogram(test.osrm_error, bins = 200)\n",
    "plt.hist(test.osrm_error, bins = 200)\n",
    "# plt.ylim(0, max(cals)*1.1)\n",
    "# plt.xlim(0, std*3 + mean)\n",
    "plt.title(f\"OSRM error: mean={mean:.2f}, std={std:.2f}\")\n",
    "plt.xlabel(\"OSRM Error for route, min [ETA]\")\n",
    "_ = plt.ylabel(\"Count\")\n",
    "print(f\"Mean: {mean}, std: {std}\")test[\"osrm_error\"] = abs(test[\"ya_dur\"] - test[\"osrm_dur\"]) / test[\"ya_dur\"]"
   ]
  },
  {
   "cell_type": "code",
   "execution_count": 204,
   "metadata": {},
   "outputs": [
    {
     "name": "stdout",
     "output_type": "stream",
     "text": [
      "Mean: 0.2465099400639905, std: 0.15375539609819627\n"
     ]
    },
    {
     "data": {
      "image/png": "[encoded data removed]",
      "text/plain": [
       "<Figure size 1080x720 with 1 Axes>"
      ]
     },
     "metadata": {
      "needs_background": "light"
     },
     "output_type": "display_data"
    }
   ],
   "source": [
    "std = np.std(test.osrm_error)\n",
    "mean = np.mean(test.osrm_error)\n",
    "cals, vals = np.histogram(test.osrm_error, bins = 200)\n",
    "plt.hist(test.osrm_error, bins = 200, color=\"orange\")\n",
    "# plt.ylim(0, max(cals)*1.1)\n",
    "# plt.xlim(0, std*3 + mean)\n",
    "plt.title(f\"OSRM error: mean={mean:.2f}, std={std:.2f}\")\n",
    "plt.xlabel(\"OSRM Error for route, min [ETA]\")\n",
    "_ = plt.ylabel(\"Count\")\n",
    "print(f\"Mean: {mean}, std: {std}\")\n",
    "\n",
    "std = np.std(test.error)\n",
    "mean = np.mean(test.error)\n",
    "cals, vals = np.histogram(test.error, bins = 200)\n",
    "plt.hist(test.error, bins = 200, color=\"blue\")\n",
    "# plt.ylim(0, max(cals)*1.1)\n",
    "# plt.xlim(0, std*3 + mean)\n",
    "plt.title(f\"Prediction error: mean={mean:.2f}, std={std:.2f}\")\n",
    "plt.xlabel(\"Prediction Error for route, min [ETA]\")\n",
    "_ = plt.ylabel(\"Count\")\n",
    "\n",
    "plt.show()"
   ]
  },
  {
   "cell_type": "code",
   "execution_count": 205,
   "metadata": {},
   "outputs": [
    {
     "data": {
      "image/png": "[encoded data removed]",
      "text/plain": [
       "<Figure size 1080x720 with 1 Axes>"
      ]
     },
     "metadata": {
      "needs_background": "light"
     },
     "output_type": "display_data"
    }
   ],
   "source": [
    "plt.scatter(test.dist, test.osrm_error, color=\"orange\")\n",
    "plt.scatter(test.dist, test.error, color=\"blue\")\n",
    "plt.show()"
   ]
  },
  {
   "cell_type": "code",
   "execution_count": 206,
   "metadata": {},
   "outputs": [
    {
     "data": {
      "image/png": "[encoded data removed]",
      "text/plain": [
       "<Figure size 1080x720 with 1 Axes>"
      ]
     },
     "metadata": {
      "needs_background": "light"
     },
     "output_type": "display_data"
    }
   ],
   "source": [
    "plt.scatter(range(0,24), test.groupby([\"hour\"]).mean().osrm_error, color=\"orange\")\n",
    "plt.scatter(range(0,24), test.groupby([\"hour\"]).mean().error, color=\"blue\")\n",
    "plt.show()"
   ]
  },
  {
   "cell_type": "code",
   "execution_count": null,
   "metadata": {},
   "outputs": [],
   "source": []
  },
  {
   "cell_type": "code",
   "execution_count": null,
   "metadata": {},
   "outputs": [],
   "source": []
  },
  {
   "cell_type": "code",
   "execution_count": null,
   "metadata": {},
   "outputs": [],
   "source": []
  }
 ],
 "metadata": {
  "kernelspec": {
   "display_name": "Python 3",
   "language": "python",
   "name": "python3"
  },
  "language_info": {
   "codemirror_mode": {
    "name": "ipython",
    "version": 3
   },
   "file_extension": ".py",
   "mimetype": "text/x-python",
   "name": "python",
   "nbconvert_exporter": "python",
   "pygments_lexer": "ipython3",
   "version": "3.8.5"
  }
 },
 "nbformat": 4,
 "nbformat_minor": 1
}
