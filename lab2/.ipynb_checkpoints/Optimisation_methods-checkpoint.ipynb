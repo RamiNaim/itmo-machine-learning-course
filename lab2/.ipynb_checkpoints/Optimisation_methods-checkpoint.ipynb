{
 "cells": [
  {
   "cell_type": "markdown",
   "metadata": {
    "id": "vwuLDB1F_eCG"
   },
   "source": [
    "# Methods of optimization"
   ]
  },
  {
   "cell_type": "markdown",
   "metadata": {
    "id": "69w_hqdw_eCK"
   },
   "source": [
    "There is __no single method__ available for solving all optimization problems efficiently. "
   ]
  },
  {
   "cell_type": "markdown",
   "metadata": {
    "id": "UjtplmV6_eCL"
   },
   "source": [
    "One can use a number of different methods depending on the specific problem. \n",
    "\n",
    "- __Mathematical programming methods.__ These are useful in finding the minimum of a function of several variables under a prescribed set of constraints.\n",
    "- __Stochastic process techniques.__ These are used to analyze problems which are described by a set of random variables of known distribution.\n",
    "- __Statistical methods.__These are used in the analysis of experimental data and in the construction of empirical models."
   ]
  },
  {
   "cell_type": "markdown",
   "metadata": {
    "id": "oSPURL6f_eCM"
   },
   "source": [
    "## Simple examples with SciPy: 1D optimization"
   ]
  },
  {
   "cell_type": "markdown",
   "metadata": {
    "id": "hXN2Ll7x_eCN"
   },
   "source": [
    "__Non-conditional oprimization.__ Objective function to be minimized: $$min f(x^2 - 2x)$$"
   ]
  },
  {
   "cell_type": "code",
   "execution_count": null,
   "metadata": {
    "id": "fAczrmOl_eCO"
   },
   "outputs": [],
   "source": [
    "import numpy as np\n",
    "import scipy.optimize as opt\n",
    "import matplotlib.pylab as plt"
   ]
  },
  {
   "cell_type": "code",
   "execution_count": null,
   "metadata": {
    "id": "yZOQS4Ed_eCS"
   },
   "outputs": [],
   "source": [
    "#set objective function\n",
    "objective = np.poly1d([1.0, -2.0, 0.0])"
   ]
  },
  {
   "cell_type": "code",
   "execution_count": null,
   "metadata": {
    "id": "RiC-o_xP_eCV"
   },
   "outputs": [],
   "source": [
    "# initialize first value\n",
    "x0 = 3.0\n",
    "results = opt.minimize(objective,x0) \n",
    "print(\"Solution: x=%f\" % results.x)"
   ]
  },
  {
   "cell_type": "code",
   "execution_count": null,
   "metadata": {
    "id": "iV_elJx2_eCZ"
   },
   "outputs": [],
   "source": [
    "# plot result\n",
    "x = np.linspace(-3,5,100)\n",
    "plt.plot(x,objective(x))\n",
    "plt.plot(results.x,objective(results.x),'ro')\n",
    "plt.show()"
   ]
  },
  {
   "cell_type": "markdown",
   "metadata": {
    "id": "WMK0VTDz_eCc"
   },
   "source": [
    "__With condition.__ Objective function:"
   ]
  },
  {
   "cell_type": "markdown",
   "metadata": {
    "id": "UelEa_i8_eCd"
   },
   "source": [
    "$$ min f(x^2 - 2x)$$\n",
    "$$x - 2 >= 0$$"
   ]
  },
  {
   "cell_type": "code",
   "execution_count": null,
   "metadata": {
    "id": "11fKhCMO_eCe"
   },
   "outputs": [],
   "source": [
    "#set objective and conditions\n",
    "objective = np.poly1d([1.0, -2.0, 0.0])\n",
    "cons = ({'type': 'ineq','fun' : lambda x: np.array([x[0] - 2])}) \n",
    "\n",
    "results = opt.minimize(objective,x0=3.0,\n",
    "                       constraints = cons,\n",
    "                       options = {'disp':True})\n"
   ]
  },
  {
   "cell_type": "code",
   "execution_count": null,
   "metadata": {
    "id": "2OWnvs0G_eCh"
   },
   "outputs": [],
   "source": [
    "#plot results\n",
    "x = np.linspace(-3,5,100)\n",
    "cond = np.poly1d([1.0, -2.0])\n",
    "\n",
    "plt.plot(x,objective(x))\n",
    "plt.plot(x, cond(x))\n",
    "plt.plot(results.x,objective(results.x),'ro')\n",
    "plt.show()"
   ]
  },
  {
   "cell_type": "markdown",
   "metadata": {
    "id": "0BEKbcJV_eCk"
   },
   "source": [
    "## Newton's methods"
   ]
  },
  {
   "cell_type": "markdown",
   "metadata": {
    "id": "gQN9trjV_eCl"
   },
   "source": [
    "Newton's method is a root finding method that uses linear approximation. \n",
    "We guess a solution of $x_0$ the equation $f(x) =0 $, compute the linear approximation of $f(x)$ at $x_0$ and then find the $x$-intercept of the linear approximation."
   ]
  },
  {
   "cell_type": "markdown",
   "metadata": {
    "id": "D7tt6867_eCn"
   },
   "source": [
    "### Implementation"
   ]
  },
  {
   "cell_type": "code",
   "execution_count": null,
   "metadata": {
    "id": "g_bGi-H-_eCn"
   },
   "outputs": [],
   "source": [
    "def newton(f,Df,x0,epsilon,max_iter):\n",
    "    '''Approximate solution of f(x)=0 by Newton's method.\n",
    "\n",
    "    Parameters\n",
    "    ----------\n",
    "    f : function\n",
    "        Function for which we are searching for a solution f(x)=0.\n",
    "    Df : function\n",
    "        Derivative of f(x).\n",
    "    x0 : number\n",
    "        Initial guess for a solution f(x)=0.\n",
    "    epsilon : number\n",
    "        Stopping criteria is abs(f(x)) < epsilon.\n",
    "    max_iter : integer\n",
    "        Maximum number of iterations of Newton's method.\n",
    "\n",
    "    Returns\n",
    "    -------\n",
    "    xn : number\n",
    "        Implement Newton's method: compute the linear approximation\n",
    "        of f(x) at xn and find x intercept by the formula\n",
    "            x = xn - f(xn)/Df(xn)\n",
    "        Continue until abs(f(xn)) < epsilon and return xn.\n",
    "        If Df(xn) == 0, return None. If the number of iterations\n",
    "        exceeds max_iter, then return None. '''\n",
    "\n",
    "   \n",
    "    xn = x0\n",
    "    for n in range(0,max_iter):\n",
    "        fxn = f(xn)\n",
    "        if abs(fxn) < epsilon:\n",
    "            print('Found solution after',n,'iterations.')\n",
    "            return xn\n",
    "        Dfxn = Df(xn)\n",
    "        if Dfxn == 0:\n",
    "            print('Zero derivative. No solution found.')\n",
    "            return None\n",
    "        xn = xn - fxn/Dfxn\n",
    "    print('Exceeded maximum iterations. No solution found.')\n",
    "    return None"
   ]
  },
  {
   "cell_type": "code",
   "execution_count": null,
   "metadata": {
    "id": "ySg1F7xb_eCq"
   },
   "outputs": [],
   "source": [
    "#set function and first derivative\n",
    "f = lambda x: x**3 - x**2 - 1\n",
    "Df = lambda x: 3*x**2 - 2*x\n",
    "\n",
    "#apply optimization methods\n",
    "approx = newton(f = f, Df = Df, x0 = 1, epsilon = 1e-10, max_iter = 10)\n",
    "print(approx)"
   ]
  },
  {
   "cell_type": "code",
   "execution_count": null,
   "metadata": {
    "id": "2XdrXujL_eCt"
   },
   "outputs": [],
   "source": [
    "#plot results \n",
    "\n",
    "x = np.linspace(-10,10,100)\n",
    "poly = np.poly1d([1.0, -1.0, 0, -1])\n",
    "\n",
    "plt.plot(x,poly(x))\n",
    "plt.plot(approx,poly(approx),'ro')\n",
    "plt.show()"
   ]
  },
  {
   "cell_type": "markdown",
   "metadata": {
    "id": "9BuftJHz_eCw"
   },
   "source": [
    "The __scipy.optimize__ package provides several commonly used optimization algorithms. This module contains the following aspects:\n",
    "- __Unconstrained and constrained minimization of multivariate scalar functions__ (minimize()) using a variety of algorithms (e.g. BFGS, Nelder-Mead simplex, Newton Conjugate Gradient, COBYLA or SLSQP)\n",
    "- Global (brute-force) optimization routines (e.g., anneal() (Metropolis alg), basinhopping())\n",
    "- Least-squares minimization (leastsq()) and curve fitting (curve_fit()) algorithms\n",
    "- Scalar univariate functions minimizers (minimize_scalar()) and root finders (newton())"
   ]
  },
  {
   "cell_type": "markdown",
   "metadata": {
    "id": "bnXGROwC_eCw"
   },
   "source": [
    "Let's apply Newton's methods with ScyPy for minimization of Rosenbrock function"
   ]
  },
  {
   "cell_type": "markdown",
   "metadata": {
    "id": "UUL7sXsn_eCx"
   },
   "source": [
    "The __Rosenbrock function__ is a non-convex function, introduced by Howard H. Rosenbrock in 1960, which is used as a performance test problem for optimization algorithms. It is also known as Rosenbrock's valley or Rosenbrock's banana function."
   ]
  },
  {
   "cell_type": "markdown",
   "metadata": {
    "id": "wa3kSz7i_eCy"
   },
   "source": [
    "__Rosenbrock function in SciPy__"
   ]
  },
  {
   "cell_type": "code",
   "execution_count": null,
   "metadata": {
    "id": "zmlpuflW_eCz"
   },
   "outputs": [],
   "source": [
    "from scipy.optimize import rosen\n",
    "\n",
    "#or \n",
    "\n",
    "def rosen(x):\n",
    "    return sum(100*(x[1:]-x[:-1]**2.0)**2.0 +(1-x[:-1])**2.0)"
   ]
  },
  {
   "cell_type": "markdown",
   "metadata": {
    "id": "mN5dbo48_eC2"
   },
   "source": [
    "__Plot Rosenbork function__"
   ]
  },
  {
   "cell_type": "code",
   "execution_count": null,
   "metadata": {
    "id": "V0wFfu5C_eC3"
   },
   "outputs": [],
   "source": [
    "from mpl_toolkits.mplot3d import Axes3D\n",
    "import matplotlib.pyplot as plt\n",
    "from matplotlib import cm\n",
    "from matplotlib.ticker import LinearLocator, FormatStrFormatter\n",
    "\n",
    "# 3D plot\n",
    "fig = plt.figure(figsize=[15, 10])\n",
    "ax = fig.gca(projection='3d')\n",
    "\n",
    "# ang of view\n",
    "ax.view_init(45, 30)\n",
    "\n",
    "#generate data for plot\n",
    "X = np.arange(-2, 2, 0.1)\n",
    "Y = np.arange(-1, 3, 0.1)\n",
    "X, Y = np.meshgrid(X, Y)\n",
    "Z = rosen(np.array([X,Y]))\n",
    "\n",
    "# plot data\n",
    "surf = ax.plot_surface(X, Y, Z, cmap=cm.coolwarm)\n",
    "plt.show()"
   ]
  },
  {
   "cell_type": "markdown",
   "metadata": {
    "id": "_xteBAsu_eDB"
   },
   "source": [
    "### BFGS"
   ]
  },
  {
   "cell_type": "markdown",
   "metadata": {
    "id": "MmWlKr3D_eDC"
   },
   "source": [
    "Boyden–Fletcher–Goldfarb–Shanno algorithm [(more)](https://en.wikipedia.org/wiki/Broyden–Fletcher–Goldfarb–Shanno_algorithm)"
   ]
  },
  {
   "cell_type": "code",
   "execution_count": null,
   "metadata": {
    "id": "WKrtBn7z_eDC"
   },
   "outputs": [],
   "source": [
    "ps = [x0]\n",
    "opt.minimize(rosen, x0, method='BFGS', callback=reporter)"
   ]
  },
  {
   "cell_type": "code",
   "execution_count": null,
   "metadata": {
    "id": "vXgFX5b0_eDF"
   },
   "outputs": [],
   "source": [
    "ps = np.array(ps)\n",
    "\n",
    "x = np.linspace(-10, 10, 100)\n",
    "y = np.linspace(-10, 40, 100)\n",
    "X, Y = np.meshgrid(x, y)\n",
    "Z = rosen(np.vstack([X.ravel(), Y.ravel()])).reshape((100,100))\n",
    "\n",
    "plt.figure(figsize=(12,4))\n",
    "plt.subplot(121)\n",
    "plt.contour(X, Y, Z, np.arange(10)**5)\n",
    "plt.plot(ps[:, 0], ps[:, 1], '-o')\n",
    "plt.subplot(122)\n",
    "plt.semilogy(range(len(ps)), rosen(ps.T));"
   ]
  },
  {
   "cell_type": "markdown",
   "metadata": {
    "id": "X_wWBjB__eDI"
   },
   "source": [
    "### Nelder-mead"
   ]
  },
  {
   "cell_type": "markdown",
   "metadata": {
    "id": "obUc9RsA_eDJ"
   },
   "source": [
    "__Nealder-Mead__ algorithm [(more)](https://en.wikipedia.org/wiki/Nelder–Mead_method)"
   ]
  },
  {
   "cell_type": "code",
   "execution_count": null,
   "metadata": {
    "id": "q6CFVSji_eDK"
   },
   "outputs": [],
   "source": [
    "ps = [x0]\n",
    "opt.minimize(rosen, x0, method='nelder-mead', callback=reporter)"
   ]
  },
  {
   "cell_type": "code",
   "execution_count": null,
   "metadata": {
    "id": "ibsrgxay_eDN"
   },
   "outputs": [],
   "source": [
    "ps = np.array(ps)\n",
    "\n",
    "x = np.linspace(-5, 5, 100)\n",
    "y = np.linspace(-7, 4, 100)\n",
    "X, Y = np.meshgrid(x, y)\n",
    "Z = rosen(np.vstack([X.ravel(), Y.ravel()])).reshape((100,100))\n",
    "\n",
    "\n",
    "plt.figure(figsize=(12,4))\n",
    "plt.subplot(121)\n",
    "plt.contour(X, Y, Z, np.arange(10)**5)\n",
    "plt.plot(ps[:, 0], ps[:, 1], '-o')\n",
    "plt.subplot(122)\n",
    "plt.semilogy(range(len(ps)), rosen(ps.T));"
   ]
  },
  {
   "cell_type": "markdown",
   "metadata": {
    "id": "4voroRUo_eDP"
   },
   "source": [
    "## Gradient descent"
   ]
  },
  {
   "cell_type": "markdown",
   "metadata": {
    "id": "GDbB85yA_eDQ"
   },
   "source": [
    "Gradient descent is an algorithm used to the find local minimums of any differentiable function. \n",
    "\n",
    "More formally, given a differentiable function $f(x),$ the gradient descent algorithms helps us compute $x^*$ such that $f'(x^*) = 0$ and $x^*$ is a minimum of $f(x).$ A function can have many local minimums $x_{1}^{*}, x_{2}^{*}, \\ldots, x_{k}^{*},$ the gradient descent algorithm will converge to one of them $\\textbf{depending on the its starting position and learning rate.}$"
   ]
  },
  {
   "cell_type": "markdown",
   "metadata": {
    "id": "uM8oNFUT_eDR"
   },
   "source": [
    "__Single variable__\n",
    "\n",
    "Suppose we have a single variable and differentiable function $f(x).$ Given a initial value $x_{1}$ the gradient descent describes the steps required to coverge towards a local minimum $x^*$ such that $f'(x^*) = 0.$ In the above section we determined that $x_{2} = x_{1} - \\lambda f'(x_{1}),$ where $\\lambda$ is the learning rate parameter. This formula can be generalized to $$x_{t+1} = x_{t} - \\lambda f'(x_{t}),$$ for itteration $t.$ Given initial value $x_{1}$ and large number of itterations $T,$ this algorithm will generate $x_{1}, x_{2}, \\ldots, x_{T},$ where $x_{T} \\approx x^*.$ That is $x_{t+1}$ converges towards $x^*$ as $t$ gets very large. Notice that at convergence $f'(x_{t}) \\approx 0$ and hence $|x_{t+1} - x_{t}| \\approx 0.$ Therefore a common stopping criteria for gradience descent is to itterate until $|x_{t+1} - x_{t}|$ is a very small number. For example, we can keep iterating gradient descent until $|x_{t+1} - x_{t}|<0.001.$"
   ]
  },
  {
   "cell_type": "markdown",
   "metadata": {
    "id": "lk9Tvgcr_eDR"
   },
   "source": [
    "__Multiple variables__\n",
    "\n",
    "Consider a multiple variable and differentiable function $f(x_{1},x_{2},\\ldots, x_{n}).$ Our goal is to apply gradient descent and find a minimum $(x_{1}^{*}, x_{2}^{*}, \\ldots, x_{n}^{*}).$ This function has partial derivatives stored in the gradient vector $(\\frac{df(x)}{dx_{1}}, \\ldots, \\frac{df(x)}{dx_{n}}).$ The direction of the gradient vector indicates direction of steepest ascent, and the length of the gradient vector is a mesuare of the steepness. We can easily generalize the gradient descent to multiple variables as follows:\n",
    "\n",
    "$$\n",
    "\\begin{bmatrix}\n",
    "    x_{1}^{t+1} \\\\ \n",
    "    \\vdots \\\\\n",
    "    x_{n}^{t+1}\n",
    "\\end{bmatrix}\n",
    "=\n",
    "\\begin{bmatrix}\n",
    "    x_{1}^{t} \\\\ \n",
    "    \\vdots \\\\\n",
    "    x_{n}^{t}\n",
    "\\end{bmatrix}\n",
    "-\n",
    "\\lambda\n",
    "\\begin{bmatrix}\n",
    "    \\frac{df(x_{1})}{dx_{1,t}} \\\\ \n",
    "    \\vdots \\\\\n",
    "    \\frac{df(x_{n})}{dx_{n,t}} \\\\ \n",
    "\\end{bmatrix},\n",
    "$$\n",
    "\n",
    "where $t$ is the gradient descent itteration. Now the stopping criteria can depend on the euclidean distance between the now and previous itteration, that is stop if $\\sqrt{(x_{1}^{t+1} - x_{1}^{t})^2 + \\ldots + (x_{n}^{t+1} - x_{n}^{t})^2}<0.001.$"
   ]
  },
  {
   "cell_type": "markdown",
   "metadata": {
    "id": "E2YwN4J7_eDS"
   },
   "source": [
    "### SImple example: minimizing single variable function"
   ]
  },
  {
   "cell_type": "markdown",
   "metadata": {
    "id": "x9icUW7Y_eDT"
   },
   "source": [
    "__Objective function__: $$f(x) = 0.1x^2 + sin(0.1x^2)$$ \n",
    "\n",
    "Gradient descent requires us to compute the __first derivative__ which is:\n",
    "\n",
    "$$f'(x) = 0.2x + 0.2xcos(0.1x^2).$$ "
   ]
  },
  {
   "cell_type": "code",
   "execution_count": null,
   "metadata": {
    "id": "eNL4f7jK_eDT"
   },
   "outputs": [],
   "source": [
    "import numpy as np\n",
    "import matplotlib.pyplot as plt\n",
    "\n",
    "# objective function\n",
    "def f(x):\n",
    "    return 0.1*x**2 + np.sin(0.1*x**2)\n",
    "\n",
    "def plotf(x, xdots):\n",
    "    y = f(x)\n",
    "    plt.plot(x,y)\n",
    "    plt.xlabel(\"x\")\n",
    "    plt.ylabel(\"f(x)\")\n",
    "    plt.plot(xdots, f(xdots), 'bo')\n",
    "    plt.show()\n",
    "    \n",
    "x = np.arange(-10, 10, 0.1)\n",
    "plotf(x, np.array([]))"
   ]
  },
  {
   "cell_type": "code",
   "execution_count": null,
   "metadata": {
    "id": "vHIjDP4Y_eDW"
   },
   "outputs": [],
   "source": [
    "#first derivative\n",
    "def df(x):\n",
    "    return 0.2*x + 0.2*x*np.cos(0.1*(x**2))\n",
    "\n",
    "# gradient descent for single var\n",
    "def grad_descent(df, x_prev, learn_rate, sequence):\n",
    "    \n",
    "    '''Approximate solution of f(x)=0 by Gradient Descent method.\n",
    "\n",
    "    Parameters\n",
    "    ----------\n",
    "    df : function\n",
    "        First derivative of f(x).\n",
    "    x_prev : number\n",
    "        Initial guess for a solution f(x)=0.\n",
    "    learn_rate: number\n",
    "        Step size of gradient descent.\n",
    "    max_iter : integer\n",
    "        Maximum number of iterations .\n",
    "\n",
    "    Returns\n",
    "    -------\n",
    "    x_next : number\n",
    "        The minimal value of function.\n",
    "    sequence: array\n",
    "        Intermidiate results of gradient descent\n",
    "    grad_itter: number\n",
    "        Number of iterations. '''\n",
    "    \n",
    "    # epsilon threshold - stopping criteria\n",
    "    epsilon = 0.0001\n",
    "    \n",
    "    # itterations number\n",
    "    grad_itter = 1\n",
    "    \n",
    "    # vey first itteration of gradient descent\n",
    "    x_next = x_prev - learn_rate*df(x_prev)\n",
    "    sequence = np.append(sequence, x_next)\n",
    "\n",
    "    # while abs(x_{t+1} - x_{t}) > threshold, keep itterating gradient descent\n",
    "    while abs(x_next - x_prev) > epsilon:\n",
    "        x_prev = x_next\n",
    "        x_next = x_prev - learn_rate*df(x_prev)\n",
    "        sequence = np.append(sequence, x_next)\n",
    "        grad_itter += 1\n",
    "        \n",
    "    return (x_next, sequence, grad_itter)"
   ]
  },
  {
   "cell_type": "code",
   "execution_count": null,
   "metadata": {
    "id": "rpc_s_hS_eDY"
   },
   "outputs": [],
   "source": [
    "# apply gradient descent to objective function\n",
    "grad_output = grad_descent(df = df, x_prev = 8, learn_rate = 1, sequence = np.array([8]))\n",
    "\n",
    "plotf(x, grad_output[1])\n",
    "\n",
    "# Print gradient descent solution\n",
    "print('Minimum x-value from gradient descent: %s' %grad_output[0])\n",
    "print('Number of gradient descent iterations: %s' %grad_output[2])"
   ]
  },
  {
   "cell_type": "markdown",
   "metadata": {
    "id": "IVbtMD8N_eDa"
   },
   "source": [
    "### Example for multiple variable function"
   ]
  },
  {
   "cell_type": "markdown",
   "metadata": {
    "id": "vqTs2IzD_eDb"
   },
   "source": [
    "__Objective function__:\n",
    "$$f(x,y) = x^2 + y^2 + 1.$$ \n",
    "\n",
    "__Partial derivatives__:\n",
    "\n",
    "$$\\frac{df(x)}{dx} = f_{x} = 2x \\text{  and  } \\frac{df(y)}{dy} = f_{y} = 2y.$$ \n",
    "\n",
    "\n",
    "__Global minimum__ of $f(x,y)$ is (0,0) since $f(0,0) = 1$ and $f(x,y) \\ge 1.$"
   ]
  },
  {
   "cell_type": "code",
   "execution_count": null,
   "metadata": {
    "id": "82PPtj8W_eDc"
   },
   "outputs": [],
   "source": [
    "from mpl_toolkits.mplot3d import Axes3D\n",
    "from matplotlib import cm\n",
    "from matplotlib.ticker import LinearLocator, FormatStrFormatter\n",
    "\n",
    "#set objective function\n",
    "def f(x,y):\n",
    "    return x**2 + y**2 + 1\n",
    "\n",
    "#plot function\n",
    "y = np.arange(-5, 5, 0.25)\n",
    "y = np.arange(-5, 5, 0.25)\n",
    "X, Y = np.meshgrid(x, y)\n",
    "Z = f(X,Y)\n",
    "\n",
    "fig = plt.figure(1, figsize = (15, 5))\n",
    "ax = fig.gca(projection='3d')\n",
    "surf = ax.plot_surface(X, Y, Z, rstride=1, cstride=1, \n",
    "                      cmap=cm.RdBu,linewidth=0, antialiased=False)\n",
    "\n",
    "ax.zaxis.set_major_locator(LinearLocator(10))\n",
    "ax.zaxis.set_major_formatter(FormatStrFormatter('%.02f'))\n",
    "fig.colorbar(surf, shrink = 0.7, aspect=5)\n",
    "plt.show()"
   ]
  },
  {
   "cell_type": "code",
   "execution_count": null,
   "metadata": {
    "id": "xDWZLXsA_eDe"
   },
   "outputs": [],
   "source": [
    "def dfdx(x,y):\n",
    "    return 2*x\n",
    "\n",
    "def dfdy(x,y):\n",
    "    return 2*y\n",
    "\n",
    "# gradient vector [df/dx, df/dy]\n",
    "def grad_vector(x,y):\n",
    "    return np.array([dfdx(x,y), dfdy(x,y)])"
   ]
  },
  {
   "cell_type": "code",
   "execution_count": null,
   "metadata": {
    "id": "0SijbuYi_eDh"
   },
   "outputs": [],
   "source": [
    "def grad_descent_mult(df,x_prev,learn_rate):\n",
    "    \n",
    "    epsilon = 0.0001\n",
    "    grad_itter = 1\n",
    "    \n",
    "    seq_x = []\n",
    "    seq_y = []\n",
    "\n",
    "    x_next = np.subtract(x_prev, learn_rate*grad_vector(x_prev[0],x_prev[1]))\n",
    "    seq_x = np.append(seq_x, x_next[0])\n",
    "    seq_y = np.append(seq_y, x_next[1])\n",
    "    \n",
    "    while np.linalg.norm(np.subtract(x_next,x_prev)) > epsilon:\n",
    "        \n",
    "        x_prev = x_next\n",
    "        x_next = x_prev - learn_rate*grad_vector(x_prev[0],x_prev[1])\n",
    "        grad_itter += 1\n",
    "        \n",
    "        seq_x = np.append(seq_x, x_next[0])\n",
    "        seq_y = np.append(seq_y, x_next[1])\n",
    "    \n",
    "    return (x_next, grad_itter, seq_x,seq_y)"
   ]
  },
  {
   "cell_type": "code",
   "execution_count": null,
   "metadata": {
    "id": "Ex8ryWDE_eDj"
   },
   "outputs": [],
   "source": [
    "def contour_plot(x_seq,y_seq, x1):\n",
    "    plt.figure(1)\n",
    "    CS = plt.contour(X, Y, Z, cmap=cm.RdBu)\n",
    "    plt.clabel(CS, inline=1, fontsize=10)\n",
    "    plt.plot(x1[0],x1[1],'ro')\n",
    "    \n",
    "    plt.plot(x_seq,y_seq,'ro')\n",
    "    plt.show()\n",
    "\n",
    "grad_output = grad_descent_mult(grad_vector, np.array([6,2]), 0.2)\n",
    "\n",
    "print('Minimum (x,y) from gradient descent: %s' %grad_output[0])\n",
    "print('Number of gradient descent iterations: %s' %grad_output[1])\n",
    "\n",
    "contour_plot(grad_output[2],grad_output[3], np.array([6,2]))"
   ]
  },
  {
   "cell_type": "markdown",
   "metadata": {
    "id": "_s8KJQ9o_eDm"
   },
   "source": [
    "## Specific gradient descents"
   ]
  },
  {
   "cell_type": "markdown",
   "metadata": {
    "id": "oBh2e_t9_eDn"
   },
   "source": [
    "### Stochastic Gradient Descent"
   ]
  },
  {
   "cell_type": "markdown",
   "metadata": {
    "id": "3mp2LEQn_eDn"
   },
   "source": [
    "Gradient descent algorithm may be infeasible when the training data size is very large.\n",
    "\n",
    "$\\textbf{Classic}$ gradient descent step to update parameters of the model:\n",
    "\n",
    "$$ \\textbf{$\\theta_t$} := \\textbf{$\\theta_{t-1}$} - \\eta \\textbf{∇}_\\theta J(\\textbf{$\\theta_{t-1}$})_,$$\n",
    "\n",
    "where $\\eta$ - learning rate;\n",
    "$\\theta$ - model's parameters;\n",
    "\n",
    "We need to look through the full set of samples for gradient $\\textbf{∇}_\\theta J(\\textbf{$\\theta_{t-1}$})$ evaluation to obtain parameters $\\theta$.\n",
    "In a cases when data is very large it will be computationally expensive operation.\n",
    "Thus, a __stochastic__ version of the algorithm is often used instead.\n",
    "\n",
    "Stochastic gradient descent (SGD) in contrast performs a parameters (weights) update for $\\textbf{each}$ training example $(i)$ and label $y^{(i)}$:\n",
    "\n",
    "$$ \\textbf{$\\theta_{t}$} := \\textbf{$\\theta_{t-1}$} - \\eta ∇_\\theta J(\\theta^{(i)}_{t-1}),$$\n",
    "\n",
    "wher $J(\\theta)$ - objective (loss) function, $\\theta$ - model's parameters, $\\eta$ - learning rate.\n",
    "\n",
    "\n"
   ]
  },
  {
   "cell_type": "markdown",
   "metadata": {
    "id": "Yu5l5I-D_eDo"
   },
   "source": [
    "### Gradient descent with momentum"
   ]
  },
  {
   "cell_type": "markdown",
   "metadata": {
    "id": "g0SwFJIk_eDp"
   },
   "source": [
    "This is a method that helps accelerate GD in the relevant direction and suppresses oscillations. It implies adding a fraction $\\beta$ of the previous vector adding the fraction $(1 - \\beta)$ of the upcoming gradient. \n",
    "This approach is called \"exponential moving average\":\n",
    "\n",
    "$$V_t = \\beta V_{t-1} + (1 - \\beta) g_t$$\n",
    "$$ \\textbf{$\\theta_{t}$} := \\textbf{$\\theta_{t-1}$} - \\eta V_t,$$\n",
    "\n",
    "where $g_t$ - is the current gradient.\n",
    "\n",
    "$\\beta$ is usually set to 0.9.\n"
   ]
  },
  {
   "cell_type": "markdown",
   "metadata": {
    "id": "VoHUGNwE_eDp"
   },
   "source": [
    "### RMSprop"
   ]
  },
  {
   "cell_type": "markdown",
   "metadata": {
    "id": "lGiyaSOo_eDr"
   },
   "source": [
    "Root Mean Square propagation algorithm updates paramemters accordingly to the square of the upcoming gradients and adapts learning rate:\n",
    "\n",
    "$$V_t = \\beta V_{t-1} + (1 - \\beta) g_t^2$$\n",
    "\n",
    "$$ \\textbf{$\\theta_{t}$} := \\textbf{$\\theta_{t-1}$} - \\eta \\frac{g_t}{\\sqrt{V_t} + \\epsilon}$$\n",
    "\n",
    "Adaptive learning rate with the square root in the last formula provides faster learning in the desirable direction to the local minimum.\n"
   ]
  },
  {
   "cell_type": "markdown",
   "metadata": {
    "id": "-8V-2dQ3_eDt"
   },
   "source": [
    "### Adam"
   ]
  },
  {
   "cell_type": "markdown",
   "metadata": {
    "id": "4Z0AduyE_eDu"
   },
   "source": [
    "Adam  (Adaptive momentum algorithm) combines momentum and RMSprop approaches:\n",
    "\n",
    "- computes adaptive learning rates;\n",
    "- storing an exponentially moving average of past squared gradients\n",
    "\n",
    "and uses scaling of the gradients:\n",
    "\n",
    "$${V_t^{corr}}= \\frac{V_t}{1 - \\beta^t}$$\n",
    "\n",
    "Parameters:\n",
    "- learning rate $\\eta$\n",
    "- $\\beta_1$\n",
    "- $\\beta_2$\n",
    "- $\\epsilon$\n",
    "\n",
    "The moving averages of past and past squared gradients $V_t$ and $S_t$ respectively are computed as follows:\n",
    "\n",
    "$$V_t = \\beta_1 V_{t-1} + (1 - \\beta_1)g_t$$\n",
    "$$S_t = \\beta_2 S_{t-1} + (1 - \\beta_2)g^2_t$$\n",
    "\n",
    "Adam update rule for the model weights:\n",
    "\n",
    "$$\\theta_{t+1} = \\theta_t - \\frac{\\eta}{\\sqrt{{S_t^{corr}}} + \\epsilon}{V_t}$$\n",
    "\n",
    "Suggested values for $\\beta_1$ is 0.9, for $\\beta_2$ is 0.999 and $10^{-8}$ for $\\epsilon$."
   ]
  },
  {
   "cell_type": "markdown",
   "metadata": {
    "id": "ujzKkSOQ_eDv"
   },
   "source": [
    "## Digits recognition example"
   ]
  },
  {
   "cell_type": "markdown",
   "metadata": {
    "id": "s9fT3NUk_eDv"
   },
   "source": [
    "### Step 1. Download and plot digits"
   ]
  },
  {
   "cell_type": "code",
   "execution_count": null,
   "metadata": {
    "colab": {
     "base_uri": "https://localhost:8080/",
     "height": 319
    },
    "id": "gcaKN-iK_eDw",
    "outputId": "20a4e0ed-00c9-4b25-f2c8-4e1f210ef45c"
   },
   "outputs": [
    {
     "name": "stderr",
     "output_type": "stream",
     "text": [
      "Using TensorFlow backend.\n"
     ]
    },
    {
     "name": "stdout",
     "output_type": "stream",
     "text": [
      "Downloading data from https://s3.amazonaws.com/img-datasets/mnist.npz\n",
      "11493376/11490434 [==============================] - 0s 0us/step\n"
     ]
    },
    {
     "data": {
      "image/png": "[encoded data removed]",
      "text/plain": [
       "<Figure size 432x288 with 4 Axes>"
      ]
     },
     "metadata": {
      "tags": []
     },
     "output_type": "display_data"
    }
   ],
   "source": [
    "# using keras framework\n",
    "from keras.datasets import mnist\n",
    "import matplotlib.pyplot as plt\n",
    "(X_train, y_train), (X_test, y_test) = mnist.load_data()\n",
    "\n",
    "plt.subplot(221)\n",
    "plt.imshow(X_train[0], cmap=plt.get_cmap('gray'))\n",
    "plt.subplot(222)\n",
    "plt.imshow(X_train[1], cmap=plt.get_cmap('gray'))\n",
    "plt.subplot(223)\n",
    "plt.imshow(X_train[2], cmap=plt.get_cmap('gray'))\n",
    "plt.subplot(224)\n",
    "plt.imshow(X_train[3], cmap=plt.get_cmap('gray'))\n",
    "plt.show()"
   ]
  },
  {
   "cell_type": "code",
   "execution_count": null,
   "metadata": {
    "id": "JGFNMffk_eDz"
   },
   "outputs": [],
   "source": [
    "import numpy\n",
    "from tensorflow.keras.models import Sequential\n",
    "from tensorflow.keras.optimizers import Adam, SGD, RMSprop\n",
    "from tensorflow.keras.layers import Dense, Dropout\n",
    "from keras.utils import np_utils"
   ]
  },
  {
   "cell_type": "markdown",
   "metadata": {
    "id": "aYO3DEjw_eD1"
   },
   "source": [
    "### Step 2. Prepare data for training"
   ]
  },
  {
   "cell_type": "code",
   "execution_count": null,
   "metadata": {
    "id": "ROieyscW_eD1"
   },
   "outputs": [],
   "source": [
    "seed = 7\n",
    "numpy.random.seed(seed)\n",
    "\n",
    "# flatten 28*28 images to a 784 vector for each image\n",
    "num_pixels = X_train.shape[1] * X_train.shape[2]\n",
    "X_train = X_train.reshape(X_train.shape[0], num_pixels).astype('float32')\n",
    "X_test = X_test.reshape(X_test.shape[0], num_pixels).astype('float32')\n",
    "\n",
    "# normalize inputs from 0-255 to 0-1\n",
    "X_train = X_train / 255\n",
    "X_test = X_test / 255\n",
    "\n",
    "# one hot encode outputs\n",
    "y_train = np_utils.to_categorical(y_train)\n",
    "y_test = np_utils.to_categorical(y_test)\n",
    "num_classes = y_test.shape[1]"
   ]
  },
  {
   "cell_type": "markdown",
   "metadata": {
    "id": "DhaQP6Zk_eD4"
   },
   "source": [
    "### Step 3. Define model"
   ]
  },
  {
   "cell_type": "code",
   "execution_count": null,
   "metadata": {
    "id": "3MZ7hDsd_eD4"
   },
   "outputs": [],
   "source": [
    "# define baseline model\n",
    "def baseline_model():\n",
    "    # create model\n",
    "    model = Sequential()\n",
    "    model.add(Dense(num_pixels, input_dim=num_pixels, kernel_initializer='normal', activation='relu'))\n",
    "    model.add(Dense(num_classes, kernel_initializer='normal', activation='softmax'))\n",
    "    return model\n",
    "\n",
    "model = baseline_model()"
   ]
  },
  {
   "cell_type": "markdown",
   "metadata": {
    "id": "BxSsJUpg_eD9"
   },
   "source": [
    "### Step 4. Build and fit models with diff optimizers"
   ]
  },
  {
   "cell_type": "code",
   "execution_count": null,
   "metadata": {
    "colab": {
     "base_uri": "https://localhost:8080/",
     "height": 357
    },
    "id": "FKKVP7af_eD-",
    "outputId": "75698445-6de7-40fa-fd7a-3fd953ca50c5"
   },
   "outputs": [
    {
     "name": "stdout",
     "output_type": "stream",
     "text": [
      "Epoch 1/10\n",
      "300/300 [==============================] - 4s 14ms/step - loss: 1.2511 - accuracy: 0.7020 - val_loss: 0.7119 - val_accuracy: 0.8440\n",
      "Epoch 2/10\n",
      "300/300 [==============================] - 4s 14ms/step - loss: 0.6061 - accuracy: 0.8590 - val_loss: 0.4991 - val_accuracy: 0.8784\n",
      "Epoch 3/10\n",
      "300/300 [==============================] - 4s 14ms/step - loss: 0.4765 - accuracy: 0.8789 - val_loss: 0.4214 - val_accuracy: 0.8926\n",
      "Epoch 4/10\n",
      "300/300 [==============================] - 4s 14ms/step - loss: 0.4179 - accuracy: 0.8900 - val_loss: 0.3801 - val_accuracy: 0.9002\n",
      "Epoch 5/10\n",
      "300/300 [==============================] - 4s 14ms/step - loss: 0.3829 - accuracy: 0.8972 - val_loss: 0.3528 - val_accuracy: 0.9071\n",
      "Epoch 6/10\n",
      "300/300 [==============================] - 4s 14ms/step - loss: 0.3589 - accuracy: 0.9017 - val_loss: 0.3334 - val_accuracy: 0.9109\n",
      "Epoch 7/10\n",
      "300/300 [==============================] - 4s 14ms/step - loss: 0.3408 - accuracy: 0.9059 - val_loss: 0.3188 - val_accuracy: 0.9133\n",
      "Epoch 8/10\n",
      "300/300 [==============================] - 4s 14ms/step - loss: 0.3264 - accuracy: 0.9097 - val_loss: 0.3071 - val_accuracy: 0.9156\n",
      "Epoch 9/10\n",
      "300/300 [==============================] - 4s 14ms/step - loss: 0.3145 - accuracy: 0.9124 - val_loss: 0.2968 - val_accuracy: 0.9187\n",
      "Epoch 10/10\n",
      "300/300 [==============================] - 4s 14ms/step - loss: 0.3044 - accuracy: 0.9150 - val_loss: 0.2888 - val_accuracy: 0.9200\n"
     ]
    }
   ],
   "source": [
    "model = baseline_model()\n",
    "model.compile(loss='categorical_crossentropy', optimizer=SGD(lr = 0.001, momentum = 0.9), metrics=['accuracy'])\n",
    "\n",
    "# Fit the model\n",
    "history_SGD = model.fit(X_train, y_train, validation_data=(X_test, y_test), epochs=10, batch_size=200, verbose=1)"
   ]
  },
  {
   "cell_type": "code",
   "execution_count": null,
   "metadata": {
    "id": "pgYpbTiD_eEB"
   },
   "outputs": [],
   "source": [
    "# build the model\n",
    "model = baseline_model()\n",
    "model.compile(loss='categorical_crossentropy', optimizer=Adam(lr = 0.0001, beta_1=0.9, beta_2=0.999), metrics=['accuracy'])\n",
    "\n",
    "# Fit the model\n",
    "history_Adam = model.fit(X_train, y_train, validation_data=(X_test, y_test), epochs=10, batch_size=200, verbose=0)"
   ]
  },
  {
   "cell_type": "code",
   "execution_count": null,
   "metadata": {
    "id": "CT0kOUDz_eED"
   },
   "outputs": [],
   "source": [
    "# build the model\n",
    "model = baseline_model()\n",
    "model.compile(loss='categorical_crossentropy', optimizer=RMSprop(lr = 0.0001,epsilon=0.01), metrics=['accuracy'])\n",
    "\n",
    "# Fit the model\n",
    "history_Adagrad = model.fit(X_train, y_train, validation_data=(X_test, y_test), epochs=10, batch_size=200, verbose=0)"
   ]
  },
  {
   "cell_type": "markdown",
   "metadata": {
    "id": "_9evORPD_eEF"
   },
   "source": [
    "### Step 5. Plot results"
   ]
  },
  {
   "cell_type": "code",
   "execution_count": null,
   "metadata": {
    "colab": {
     "base_uri": "https://localhost:8080/",
     "height": 350
    },
    "id": "dITUdqH1_eEG",
    "outputId": "db24bd8b-16df-42d2-fa13-efebeaff852e"
   },
   "outputs": [
    {
     "data": {
      "image/png": "[encoded data removed]",
      "text/plain": [
       "<Figure size 1440x360 with 3 Axes>"
      ]
     },
     "metadata": {
      "tags": []
     },
     "output_type": "display_data"
    }
   ],
   "source": [
    "optimizers = ['SGD',  'RMSprop','Adam']\n",
    "fig, axs = plt.subplots(1, 3, figsize = (20, 5))\n",
    "for i, h in enumerate([history_SGD,  history_Adagrad,history_Adam]):\n",
    "    axs[i].set_ylim(0.1, 2.5)\n",
    "    axs[i].plot(h.history['val_loss'], label='val_loss')\n",
    "    axs[i].plot(h.history['loss'] , label='loss')\n",
    "    axs[i].set_xlabel(\"Epochs\")\n",
    "    axs[i].set_ylabel(\"Loss\")\n",
    "    axs[i].set_title(optimizers[i])\n",
    "    axs[i].legend(shadow=True, loc=1)\n",
    "\n",
    "plt.show()"
   ]
  },
  {
   "cell_type": "code",
   "execution_count": null,
   "metadata": {
    "id": "jhGK0ZL4_eEI"
   },
   "outputs": [],
   "source": [
    "  "
   ]
  }
 ],
 "metadata": {
  "colab": {
   "collapsed_sections": [
    "E2YwN4J7_eDS",
    "IVbtMD8N_eDa"
   ],
   "name": "Optimisation_methods.ipynb",
   "provenance": []
  },
  "kernelspec": {
   "display_name": "Python 3",
   "language": "python",
   "name": "python3"
  },
  "language_info": {
   "codemirror_mode": {
    "name": "ipython",
    "version": 3
   },
   "file_extension": ".py",
   "mimetype": "text/x-python",
   "name": "python",
   "nbconvert_exporter": "python",
   "pygments_lexer": "ipython3",
   "version": "3.8.5"
  }
 },
 "nbformat": 4,
 "nbformat_minor": 1
}
